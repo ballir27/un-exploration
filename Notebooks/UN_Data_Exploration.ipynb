{
 "cells": [
  {
   "cell_type": "code",
   "execution_count": 26,
   "metadata": {},
   "outputs": [],
   "source": [
    "import pandas as pd\n",
    "import numpy as np\n",
    "import matplotlib.pyplot as plt\n",
    "import seaborn as sns"
   ]
  },
  {
   "cell_type": "code",
   "execution_count": 27,
   "metadata": {},
   "outputs": [
    {
     "name": "stdout",
     "output_type": "stream",
     "text": [
      "  Country or Area  Year        Value  Value Footnotes\n",
      "0     Afghanistan  2020  1970.560169              NaN\n",
      "1     Afghanistan  2019  2065.036235              NaN\n",
      "2     Afghanistan  2018  2033.804389              NaN\n",
      "3     Afghanistan  2017  2058.400221              NaN\n",
      "4     Afghanistan  2016  2057.067978              NaN\n",
      "5     Afghanistan  2015  2068.265904              NaN\n",
      "6     Afghanistan  2014  2102.384604              NaN\n",
      "7     Afghanistan  2013  2116.465258              NaN\n",
      "8     Afghanistan  2012  2075.491614              NaN\n",
      "9     Afghanistan  2011  1904.559926              NaN\n",
      "     Country or Area  Year        Value  Value Footnotes\n",
      "7166        Zimbabwe  1999  2872.714795              NaN\n",
      "7167        Zimbabwe  1998  2915.052992              NaN\n",
      "7168        Zimbabwe  1997  2856.118188              NaN\n",
      "7169        Zimbabwe  1996  2808.558556              NaN\n",
      "7170        Zimbabwe  1995  2573.993785              NaN\n",
      "7171        Zimbabwe  1994  2603.927369              NaN\n",
      "7172        Zimbabwe  1993  2420.092791              NaN\n",
      "7173        Zimbabwe  1992  2437.152908              NaN\n",
      "7174        Zimbabwe  1991  2733.696626              NaN\n",
      "7175        Zimbabwe  1990  2652.129209              NaN\n"
     ]
    }
   ],
   "source": [
    "gdp_df = pd.read_csv('../data/UNdata_Export_20230915_035336592.csv')\n",
    "first10rows = gdp_df.head(10)\n",
    "last10rows = gdp_df.tail(10)\n",
    "print(first10rows)\n",
    "print(last10rows)"
   ]
  },
  {
   "cell_type": "code",
   "execution_count": 28,
   "metadata": {},
   "outputs": [],
   "source": [
    "gdp_df = gdp_df.drop(columns='Value Footnotes')\n",
    "gdp_df = gdp_df.rename(columns={'Country or Area':'Country', 'Value':'GDP_Per_Capita'})"
   ]
  },
  {
   "cell_type": "code",
   "execution_count": 29,
   "metadata": {},
   "outputs": [
    {
     "name": "stdout",
     "output_type": "stream",
     "text": [
      "(7176, 3)\n",
      "<class 'pandas.core.series.Series'>\n",
      "<class 'pandas.core.series.Series'>\n",
      "<class 'pandas.core.series.Series'>\n"
     ]
    }
   ],
   "source": [
    "print(gdp_df.shape)\n",
    "print(type(gdp_df.iloc[:,0]))\n",
    "print(type(gdp_df.iloc[:,1]))\n",
    "print(type(gdp_df.iloc[:,2]))"
   ]
  },
  {
   "cell_type": "markdown",
   "metadata": {},
   "source": [
    "Answer to question 6:\n",
    "gdp_df now has 7176 rows and 3 columns.\n",
    "All columns are pandas series."
   ]
  },
  {
   "cell_type": "code",
   "execution_count": 30,
   "metadata": {},
   "outputs": [
    {
     "data": {
      "text/html": [
       "<div>\n",
       "<style scoped>\n",
       "    .dataframe tbody tr th:only-of-type {\n",
       "        vertical-align: middle;\n",
       "    }\n",
       "\n",
       "    .dataframe tbody tr th {\n",
       "        vertical-align: top;\n",
       "    }\n",
       "\n",
       "    .dataframe thead th {\n",
       "        text-align: right;\n",
       "    }\n",
       "</style>\n",
       "<table border=\"1\" class=\"dataframe\">\n",
       "  <thead>\n",
       "    <tr style=\"text-align: right;\">\n",
       "      <th></th>\n",
       "      <th>Country</th>\n",
       "      <th>GDP_Per_Capita</th>\n",
       "    </tr>\n",
       "    <tr>\n",
       "      <th>Year</th>\n",
       "      <th></th>\n",
       "      <th></th>\n",
       "    </tr>\n",
       "  </thead>\n",
       "  <tbody>\n",
       "    <tr>\n",
       "      <th>1990</th>\n",
       "      <td>206</td>\n",
       "      <td>206</td>\n",
       "    </tr>\n",
       "    <tr>\n",
       "      <th>1991</th>\n",
       "      <td>207</td>\n",
       "      <td>207</td>\n",
       "    </tr>\n",
       "    <tr>\n",
       "      <th>1992</th>\n",
       "      <td>208</td>\n",
       "      <td>208</td>\n",
       "    </tr>\n",
       "    <tr>\n",
       "      <th>1993</th>\n",
       "      <td>209</td>\n",
       "      <td>209</td>\n",
       "    </tr>\n",
       "    <tr>\n",
       "      <th>1994</th>\n",
       "      <td>211</td>\n",
       "      <td>211</td>\n",
       "    </tr>\n",
       "    <tr>\n",
       "      <th>1995</th>\n",
       "      <td>222</td>\n",
       "      <td>222</td>\n",
       "    </tr>\n",
       "    <tr>\n",
       "      <th>1996</th>\n",
       "      <td>222</td>\n",
       "      <td>222</td>\n",
       "    </tr>\n",
       "    <tr>\n",
       "      <th>1997</th>\n",
       "      <td>226</td>\n",
       "      <td>226</td>\n",
       "    </tr>\n",
       "    <tr>\n",
       "      <th>1998</th>\n",
       "      <td>226</td>\n",
       "      <td>226</td>\n",
       "    </tr>\n",
       "    <tr>\n",
       "      <th>1999</th>\n",
       "      <td>227</td>\n",
       "      <td>227</td>\n",
       "    </tr>\n",
       "    <tr>\n",
       "      <th>2000</th>\n",
       "      <td>233</td>\n",
       "      <td>233</td>\n",
       "    </tr>\n",
       "    <tr>\n",
       "      <th>2001</th>\n",
       "      <td>234</td>\n",
       "      <td>234</td>\n",
       "    </tr>\n",
       "    <tr>\n",
       "      <th>2002</th>\n",
       "      <td>235</td>\n",
       "      <td>235</td>\n",
       "    </tr>\n",
       "    <tr>\n",
       "      <th>2003</th>\n",
       "      <td>235</td>\n",
       "      <td>235</td>\n",
       "    </tr>\n",
       "    <tr>\n",
       "      <th>2004</th>\n",
       "      <td>236</td>\n",
       "      <td>236</td>\n",
       "    </tr>\n",
       "    <tr>\n",
       "      <th>2005</th>\n",
       "      <td>236</td>\n",
       "      <td>236</td>\n",
       "    </tr>\n",
       "    <tr>\n",
       "      <th>2006</th>\n",
       "      <td>237</td>\n",
       "      <td>237</td>\n",
       "    </tr>\n",
       "    <tr>\n",
       "      <th>2007</th>\n",
       "      <td>237</td>\n",
       "      <td>237</td>\n",
       "    </tr>\n",
       "    <tr>\n",
       "      <th>2008</th>\n",
       "      <td>238</td>\n",
       "      <td>238</td>\n",
       "    </tr>\n",
       "    <tr>\n",
       "      <th>2009</th>\n",
       "      <td>239</td>\n",
       "      <td>239</td>\n",
       "    </tr>\n",
       "    <tr>\n",
       "      <th>2010</th>\n",
       "      <td>239</td>\n",
       "      <td>239</td>\n",
       "    </tr>\n",
       "    <tr>\n",
       "      <th>2011</th>\n",
       "      <td>240</td>\n",
       "      <td>240</td>\n",
       "    </tr>\n",
       "    <tr>\n",
       "      <th>2012</th>\n",
       "      <td>240</td>\n",
       "      <td>240</td>\n",
       "    </tr>\n",
       "    <tr>\n",
       "      <th>2013</th>\n",
       "      <td>242</td>\n",
       "      <td>242</td>\n",
       "    </tr>\n",
       "    <tr>\n",
       "      <th>2014</th>\n",
       "      <td>242</td>\n",
       "      <td>242</td>\n",
       "    </tr>\n",
       "    <tr>\n",
       "      <th>2015</th>\n",
       "      <td>242</td>\n",
       "      <td>242</td>\n",
       "    </tr>\n",
       "    <tr>\n",
       "      <th>2016</th>\n",
       "      <td>242</td>\n",
       "      <td>242</td>\n",
       "    </tr>\n",
       "    <tr>\n",
       "      <th>2017</th>\n",
       "      <td>242</td>\n",
       "      <td>242</td>\n",
       "    </tr>\n",
       "    <tr>\n",
       "      <th>2018</th>\n",
       "      <td>242</td>\n",
       "      <td>242</td>\n",
       "    </tr>\n",
       "    <tr>\n",
       "      <th>2019</th>\n",
       "      <td>241</td>\n",
       "      <td>241</td>\n",
       "    </tr>\n",
       "    <tr>\n",
       "      <th>2020</th>\n",
       "      <td>240</td>\n",
       "      <td>240</td>\n",
       "    </tr>\n",
       "  </tbody>\n",
       "</table>\n",
       "</div>"
      ],
      "text/plain": [
       "      Country  GDP_Per_Capita\n",
       "Year                         \n",
       "1990      206             206\n",
       "1991      207             207\n",
       "1992      208             208\n",
       "1993      209             209\n",
       "1994      211             211\n",
       "1995      222             222\n",
       "1996      222             222\n",
       "1997      226             226\n",
       "1998      226             226\n",
       "1999      227             227\n",
       "2000      233             233\n",
       "2001      234             234\n",
       "2002      235             235\n",
       "2003      235             235\n",
       "2004      236             236\n",
       "2005      236             236\n",
       "2006      237             237\n",
       "2007      237             237\n",
       "2008      238             238\n",
       "2009      239             239\n",
       "2010      239             239\n",
       "2011      240             240\n",
       "2012      240             240\n",
       "2013      242             242\n",
       "2014      242             242\n",
       "2015      242             242\n",
       "2016      242             242\n",
       "2017      242             242\n",
       "2018      242             242\n",
       "2019      241             241\n",
       "2020      240             240"
      ]
     },
     "execution_count": 30,
     "metadata": {},
     "output_type": "execute_result"
    }
   ],
   "source": [
    "gdp_df.groupby(['Year']).count()"
   ]
  },
  {
   "cell_type": "markdown",
   "metadata": {},
   "source": [
    "Answers to question 7:\n",
    "The years 1990-2020 are represented in this dataset.\n",
    "\n",
    "The number of observations per year generally increases gradually over time (with the exception of the 2 most recent years: 2019 & 2020 - one might wonder if those years are still waiting for updates)."
   ]
  },
  {
   "cell_type": "code",
   "execution_count": 31,
   "metadata": {},
   "outputs": [
    {
     "name": "stdout",
     "output_type": "stream",
     "text": [
      "(242, 2)\n",
      "                           Year  GDP_Per_Capita\n",
      "Country                                        \n",
      "Somalia                       8               8\n",
      "Djibouti                      8               8\n",
      "Turks and Caicos Islands     10              10\n",
      "Sint Maarten (Dutch part)    10              10\n",
      "Kosovo                       13              13\n",
      "Cayman Islands               15              15\n",
      "Nauru                        17              17\n",
      "Afghanistan                  19              19\n",
      "SÃ£o TomÃ© and Principe      20              20\n",
      "Timor-Leste                  21              21\n",
      "CuraÃ§ao                     21              21\n",
      "Liberia                      21              21\n",
      "Qatar                        21              21\n",
      "Palau                        21              21\n",
      "Other small states           21              21\n",
      "Libya                        22              22\n",
      "Montenegro                   24              24\n",
      "San Marino                   24              24\n",
      "Small states                 24              24\n",
      "Canada                       24              24\n"
     ]
    }
   ],
   "source": [
    "countrycount = gdp_df.groupby(['Country']).count().sort_values('Year',ascending=True)\n",
    "print(countrycount.shape)\n",
    "print(countrycount.head(20))"
   ]
  },
  {
   "cell_type": "markdown",
   "metadata": {},
   "source": [
    "Answers to question 8:\n",
    "There are 242 countries in the data set.\n",
    "Countries least represented in the dataset generally follow 2 patterns:\n",
    "\n",
    "1) They are war zones in Africa or the Middle East (Somalian and Libyan civil wars, war on terror affecting Afghanistan and Qatar, Djibouti has significant US military bases to address African and Middle Eastern conflicts... etc.)\n",
    "\n",
    "2) They are really small countries - especially island countries like Nauru. One of the 242 \"countries\" with the least representation is literally just listed as \"other small states\"."
   ]
  },
  {
   "cell_type": "code",
   "execution_count": 32,
   "metadata": {},
   "outputs": [
    {
     "data": {
      "text/html": [
       "<div>\n",
       "<style scoped>\n",
       "    .dataframe tbody tr th:only-of-type {\n",
       "        vertical-align: middle;\n",
       "    }\n",
       "\n",
       "    .dataframe tbody tr th {\n",
       "        vertical-align: top;\n",
       "    }\n",
       "\n",
       "    .dataframe thead th {\n",
       "        text-align: right;\n",
       "    }\n",
       "</style>\n",
       "<table border=\"1\" class=\"dataframe\">\n",
       "  <thead>\n",
       "    <tr style=\"text-align: right;\">\n",
       "      <th></th>\n",
       "      <th>Year</th>\n",
       "      <th>GDP_Per_Capita</th>\n",
       "    </tr>\n",
       "  </thead>\n",
       "  <tbody>\n",
       "    <tr>\n",
       "      <th>count</th>\n",
       "      <td>242.0</td>\n",
       "      <td>242.000000</td>\n",
       "    </tr>\n",
       "    <tr>\n",
       "      <th>mean</th>\n",
       "      <td>2014.0</td>\n",
       "      <td>19612.875611</td>\n",
       "    </tr>\n",
       "    <tr>\n",
       "      <th>std</th>\n",
       "      <td>0.0</td>\n",
       "      <td>20961.714572</td>\n",
       "    </tr>\n",
       "    <tr>\n",
       "      <th>min</th>\n",
       "      <td>2014.0</td>\n",
       "      <td>822.611195</td>\n",
       "    </tr>\n",
       "    <tr>\n",
       "      <th>25%</th>\n",
       "      <td>2014.0</td>\n",
       "      <td>4702.212961</td>\n",
       "    </tr>\n",
       "    <tr>\n",
       "      <th>50%</th>\n",
       "      <td>2014.0</td>\n",
       "      <td>12178.874687</td>\n",
       "    </tr>\n",
       "    <tr>\n",
       "      <th>75%</th>\n",
       "      <td>2014.0</td>\n",
       "      <td>26461.384188</td>\n",
       "    </tr>\n",
       "    <tr>\n",
       "      <th>max</th>\n",
       "      <td>2014.0</td>\n",
       "      <td>155201.740571</td>\n",
       "    </tr>\n",
       "  </tbody>\n",
       "</table>\n",
       "</div>"
      ],
      "text/plain": [
       "         Year  GDP_Per_Capita\n",
       "count   242.0      242.000000\n",
       "mean   2014.0    19612.875611\n",
       "std       0.0    20961.714572\n",
       "min    2014.0      822.611195\n",
       "25%    2014.0     4702.212961\n",
       "50%    2014.0    12178.874687\n",
       "75%    2014.0    26461.384188\n",
       "max    2014.0   155201.740571"
      ]
     },
     "execution_count": 32,
     "metadata": {},
     "output_type": "execute_result"
    }
   ],
   "source": [
    "gdp_2014 = gdp_df[gdp_df['Year']==2014]\n",
    "gdp_2014.describe()"
   ]
  },
  {
   "cell_type": "code",
   "execution_count": 33,
   "metadata": {},
   "outputs": [
    {
     "data": {
      "image/png": "[encoded data removed]",
      "text/plain": [
       "<Figure size 432x288 with 1 Axes>"
      ]
     },
     "metadata": {
      "needs_background": "light"
     },
     "output_type": "display_data"
    }
   ],
   "source": [
    "plt.hist(gdp_2014['GDP_Per_Capita'], bins = 20)\n",
    "plt.show()"
   ]
  },
  {
   "cell_type": "markdown",
   "metadata": {},
   "source": [
    "Answer to question 11:\n",
    "This is a very right-skewed distribution - there are only a few countries over $50,000 GDP/Capita while the majority are below that value."
   ]
  },
  {
   "cell_type": "code",
   "execution_count": 34,
   "metadata": {
    "tags": []
   },
   "outputs": [
    {
     "data": {
      "text/html": [
       "<div>\n",
       "<style scoped>\n",
       "    .dataframe tbody tr th:only-of-type {\n",
       "        vertical-align: middle;\n",
       "    }\n",
       "\n",
       "    .dataframe tbody tr th {\n",
       "        vertical-align: top;\n",
       "    }\n",
       "\n",
       "    .dataframe thead th {\n",
       "        text-align: right;\n",
       "    }\n",
       "</style>\n",
       "<table border=\"1\" class=\"dataframe\">\n",
       "  <thead>\n",
       "    <tr style=\"text-align: right;\">\n",
       "      <th></th>\n",
       "      <th>Country</th>\n",
       "      <th>Year</th>\n",
       "      <th>GDP_Per_Capita</th>\n",
       "    </tr>\n",
       "  </thead>\n",
       "  <tbody>\n",
       "    <tr>\n",
       "      <th>3915</th>\n",
       "      <td>Macao SAR, China</td>\n",
       "      <td>2018</td>\n",
       "      <td>132373.544079</td>\n",
       "    </tr>\n",
       "    <tr>\n",
       "      <th>3884</th>\n",
       "      <td>Luxembourg</td>\n",
       "      <td>2018</td>\n",
       "      <td>115049.926079</td>\n",
       "    </tr>\n",
       "    <tr>\n",
       "      <th>5722</th>\n",
       "      <td>Singapore</td>\n",
       "      <td>2018</td>\n",
       "      <td>98336.956494</td>\n",
       "    </tr>\n",
       "  </tbody>\n",
       "</table>\n",
       "</div>"
      ],
      "text/plain": [
       "               Country  Year  GDP_Per_Capita\n",
       "3915  Macao SAR, China  2018   132373.544079\n",
       "3884        Luxembourg  2018   115049.926079\n",
       "5722         Singapore  2018    98336.956494"
      ]
     },
     "execution_count": 34,
     "metadata": {},
     "output_type": "execute_result"
    }
   ],
   "source": [
    "gdp_2018 = gdp_df[gdp_df['Year']==2018].sort_values('GDP_Per_Capita',ascending = False)\n",
    "gdp_2018.head(3)"
   ]
  },
  {
   "cell_type": "markdown",
   "metadata": {},
   "source": [
    "Answer to question 12:\n",
    "Macao, Luxembourg, Singapore, Qatar, and Ireland have the highest GDP/Capita\n",
    "Burundi, CAR, DRC, Somalia, and Niger have the lowest GDP/Capita"
   ]
  },
  {
   "cell_type": "code",
   "execution_count": 35,
   "metadata": {
    "tags": []
   },
   "outputs": [],
   "source": [
    "gdp_pivoted = gdp_df.pivot_table(values = 'GDP_Per_Capita', index = 'Country', columns = 'Year')\n",
    "gdp_pivoted = gdp_pivoted.dropna(subset=[1990, 2018])"
   ]
  },
  {
   "cell_type": "code",
   "execution_count": 36,
   "metadata": {
    "tags": []
   },
   "outputs": [
    {
     "data": {
      "text/html": [
       "<div>\n",
       "<style scoped>\n",
       "    .dataframe tbody tr th:only-of-type {\n",
       "        vertical-align: middle;\n",
       "    }\n",
       "\n",
       "    .dataframe tbody tr th {\n",
       "        vertical-align: top;\n",
       "    }\n",
       "\n",
       "    .dataframe thead th {\n",
       "        text-align: right;\n",
       "    }\n",
       "</style>\n",
       "<table border=\"1\" class=\"dataframe\">\n",
       "  <thead>\n",
       "    <tr style=\"text-align: right;\">\n",
       "      <th>Year</th>\n",
       "      <th>1990</th>\n",
       "      <th>1991</th>\n",
       "      <th>1992</th>\n",
       "      <th>1993</th>\n",
       "      <th>1994</th>\n",
       "      <th>1995</th>\n",
       "      <th>1996</th>\n",
       "      <th>1997</th>\n",
       "      <th>1998</th>\n",
       "      <th>1999</th>\n",
       "      <th>...</th>\n",
       "      <th>2012</th>\n",
       "      <th>2013</th>\n",
       "      <th>2014</th>\n",
       "      <th>2015</th>\n",
       "      <th>2016</th>\n",
       "      <th>2017</th>\n",
       "      <th>2018</th>\n",
       "      <th>2019</th>\n",
       "      <th>2020</th>\n",
       "      <th>Percent_Change</th>\n",
       "    </tr>\n",
       "    <tr>\n",
       "      <th>Country</th>\n",
       "      <th></th>\n",
       "      <th></th>\n",
       "      <th></th>\n",
       "      <th></th>\n",
       "      <th></th>\n",
       "      <th></th>\n",
       "      <th></th>\n",
       "      <th></th>\n",
       "      <th></th>\n",
       "      <th></th>\n",
       "      <th></th>\n",
       "      <th></th>\n",
       "      <th></th>\n",
       "      <th></th>\n",
       "      <th></th>\n",
       "      <th></th>\n",
       "      <th></th>\n",
       "      <th></th>\n",
       "      <th></th>\n",
       "      <th></th>\n",
       "      <th></th>\n",
       "    </tr>\n",
       "  </thead>\n",
       "  <tbody>\n",
       "    <tr>\n",
       "      <th>Dem. Rep. Congo</th>\n",
       "      <td>1819.723315</td>\n",
       "      <td>1606.326694</td>\n",
       "      <td>1382.761987</td>\n",
       "      <td>1150.836230</td>\n",
       "      <td>1066.468172</td>\n",
       "      <td>1039.752865</td>\n",
       "      <td>1000.689174</td>\n",
       "      <td>921.422433</td>\n",
       "      <td>885.785895</td>\n",
       "      <td>828.209256</td>\n",
       "      <td>...</td>\n",
       "      <td>926.787816</td>\n",
       "      <td>972.455934</td>\n",
       "      <td>1029.790813</td>\n",
       "      <td>1065.242371</td>\n",
       "      <td>1055.572915</td>\n",
       "      <td>1059.810762</td>\n",
       "      <td>1085.893688</td>\n",
       "      <td>1097.948840</td>\n",
       "      <td>1082.445242</td>\n",
       "      <td>-40.326440</td>\n",
       "    </tr>\n",
       "    <tr>\n",
       "      <th>United Arab Emirates</th>\n",
       "      <td>111454.055665</td>\n",
       "      <td>106103.552655</td>\n",
       "      <td>103470.924576</td>\n",
       "      <td>98978.474614</td>\n",
       "      <td>100213.156226</td>\n",
       "      <td>101570.992100</td>\n",
       "      <td>102211.638844</td>\n",
       "      <td>105108.996265</td>\n",
       "      <td>100100.435658</td>\n",
       "      <td>97698.537395</td>\n",
       "      <td>...</td>\n",
       "      <td>57389.318786</td>\n",
       "      <td>59920.152313</td>\n",
       "      <td>62452.184508</td>\n",
       "      <td>65267.415127</td>\n",
       "      <td>66510.893666</td>\n",
       "      <td>67183.605312</td>\n",
       "      <td>66968.221181</td>\n",
       "      <td>68263.675535</td>\n",
       "      <td>63299.422971</td>\n",
       "      <td>-39.914056</td>\n",
       "    </tr>\n",
       "    <tr>\n",
       "      <th>Burundi</th>\n",
       "      <td>1184.842032</td>\n",
       "      <td>1215.887215</td>\n",
       "      <td>1202.106321</td>\n",
       "      <td>1105.228711</td>\n",
       "      <td>1044.716092</td>\n",
       "      <td>947.822231</td>\n",
       "      <td>861.482899</td>\n",
       "      <td>839.196865</td>\n",
       "      <td>870.043821</td>\n",
       "      <td>850.046951</td>\n",
       "      <td>...</td>\n",
       "      <td>862.715651</td>\n",
       "      <td>877.272857</td>\n",
       "      <td>886.235296</td>\n",
       "      <td>825.205574</td>\n",
       "      <td>794.604340</td>\n",
       "      <td>773.572859</td>\n",
       "      <td>761.524143</td>\n",
       "      <td>751.443405</td>\n",
       "      <td>731.064074</td>\n",
       "      <td>-35.727791</td>\n",
       "    </tr>\n",
       "    <tr>\n",
       "      <th>Ukraine</th>\n",
       "      <td>16428.480469</td>\n",
       "      <td>14967.733398</td>\n",
       "      <td>13447.164062</td>\n",
       "      <td>11531.298828</td>\n",
       "      <td>8934.775391</td>\n",
       "      <td>7906.957031</td>\n",
       "      <td>7179.677734</td>\n",
       "      <td>7028.046387</td>\n",
       "      <td>6956.398926</td>\n",
       "      <td>7008.243652</td>\n",
       "      <td>...</td>\n",
       "      <td>12985.086914</td>\n",
       "      <td>13020.600586</td>\n",
       "      <td>12385.813477</td>\n",
       "      <td>11216.118164</td>\n",
       "      <td>11536.316406</td>\n",
       "      <td>11860.560547</td>\n",
       "      <td>12336.926758</td>\n",
       "      <td>12804.955078</td>\n",
       "      <td>12407.790039</td>\n",
       "      <td>-24.905247</td>\n",
       "    </tr>\n",
       "    <tr>\n",
       "      <th>Congo</th>\n",
       "      <td>5068.286948</td>\n",
       "      <td>5049.206077</td>\n",
       "      <td>5040.357668</td>\n",
       "      <td>4854.626404</td>\n",
       "      <td>4461.657639</td>\n",
       "      <td>4510.633104</td>\n",
       "      <td>4571.971362</td>\n",
       "      <td>4414.313537</td>\n",
       "      <td>4448.409191</td>\n",
       "      <td>4209.771602</td>\n",
       "      <td>...</td>\n",
       "      <td>5504.184956</td>\n",
       "      <td>5331.904082</td>\n",
       "      <td>5552.844606</td>\n",
       "      <td>5224.302467</td>\n",
       "      <td>4544.075841</td>\n",
       "      <td>4234.659883</td>\n",
       "      <td>3928.427999</td>\n",
       "      <td>3825.701480</td>\n",
       "      <td>3497.565454</td>\n",
       "      <td>-22.490024</td>\n",
       "    </tr>\n",
       "    <tr>\n",
       "      <th>Central African Republic</th>\n",
       "      <td>1201.674665</td>\n",
       "      <td>1165.240259</td>\n",
       "      <td>1060.638246</td>\n",
       "      <td>1033.830959</td>\n",
       "      <td>1053.745934</td>\n",
       "      <td>1098.894561</td>\n",
       "      <td>1027.650038</td>\n",
       "      <td>1055.257751</td>\n",
       "      <td>1078.453826</td>\n",
       "      <td>1091.360827</td>\n",
       "      <td>...</td>\n",
       "      <td>1300.288810</td>\n",
       "      <td>824.943276</td>\n",
       "      <td>822.611195</td>\n",
       "      <td>852.749237</td>\n",
       "      <td>884.495197</td>\n",
       "      <td>912.803045</td>\n",
       "      <td>933.109951</td>\n",
       "      <td>946.059657</td>\n",
       "      <td>937.856470</td>\n",
       "      <td>-22.349203</td>\n",
       "    </tr>\n",
       "    <tr>\n",
       "      <th>Gabon</th>\n",
       "      <td>18179.170002</td>\n",
       "      <td>18770.603732</td>\n",
       "      <td>17704.526465</td>\n",
       "      <td>17917.219193</td>\n",
       "      <td>18099.395717</td>\n",
       "      <td>18514.567979</td>\n",
       "      <td>18703.166651</td>\n",
       "      <td>19284.530176</td>\n",
       "      <td>19465.245278</td>\n",
       "      <td>17297.806005</td>\n",
       "      <td>...</td>\n",
       "      <td>15082.656561</td>\n",
       "      <td>15342.181310</td>\n",
       "      <td>15437.265029</td>\n",
       "      <td>15510.038951</td>\n",
       "      <td>15359.740396</td>\n",
       "      <td>15006.844037</td>\n",
       "      <td>14743.698243</td>\n",
       "      <td>14945.859294</td>\n",
       "      <td>14320.844646</td>\n",
       "      <td>-18.897847</td>\n",
       "    </tr>\n",
       "    <tr>\n",
       "      <th>Tajikistan</th>\n",
       "      <td>4092.148779</td>\n",
       "      <td>3719.371003</td>\n",
       "      <td>2591.871631</td>\n",
       "      <td>2131.619060</td>\n",
       "      <td>1652.224201</td>\n",
       "      <td>1425.582163</td>\n",
       "      <td>1169.945378</td>\n",
       "      <td>1172.170092</td>\n",
       "      <td>1216.220057</td>\n",
       "      <td>1242.198818</td>\n",
       "      <td>...</td>\n",
       "      <td>2637.194886</td>\n",
       "      <td>2767.354769</td>\n",
       "      <td>2883.697905</td>\n",
       "      <td>2984.518548</td>\n",
       "      <td>3113.257637</td>\n",
       "      <td>3252.932655</td>\n",
       "      <td>3415.299465</td>\n",
       "      <td>3581.409187</td>\n",
       "      <td>3654.072934</td>\n",
       "      <td>-16.540193</td>\n",
       "    </tr>\n",
       "    <tr>\n",
       "      <th>Brunei</th>\n",
       "      <td>71232.789430</td>\n",
       "      <td>71405.378117</td>\n",
       "      <td>72705.728039</td>\n",
       "      <td>70908.808194</td>\n",
       "      <td>71176.341934</td>\n",
       "      <td>72446.901629</td>\n",
       "      <td>72695.152114</td>\n",
       "      <td>69939.977176</td>\n",
       "      <td>67986.138352</td>\n",
       "      <td>68540.820930</td>\n",
       "      <td>...</td>\n",
       "      <td>69090.341493</td>\n",
       "      <td>66715.692648</td>\n",
       "      <td>64190.824147</td>\n",
       "      <td>63147.483490</td>\n",
       "      <td>60867.291866</td>\n",
       "      <td>60994.531556</td>\n",
       "      <td>60389.184647</td>\n",
       "      <td>62098.011380</td>\n",
       "      <td>62200.882043</td>\n",
       "      <td>-15.222772</td>\n",
       "    </tr>\n",
       "    <tr>\n",
       "      <th>Madagascar</th>\n",
       "      <td>1853.049669</td>\n",
       "      <td>1686.157177</td>\n",
       "      <td>1656.344477</td>\n",
       "      <td>1641.210903</td>\n",
       "      <td>1591.420007</td>\n",
       "      <td>1569.037457</td>\n",
       "      <td>1553.575137</td>\n",
       "      <td>1560.974082</td>\n",
       "      <td>1571.629351</td>\n",
       "      <td>1594.476504</td>\n",
       "      <td>...</td>\n",
       "      <td>1538.516682</td>\n",
       "      <td>1531.778591</td>\n",
       "      <td>1540.744961</td>\n",
       "      <td>1546.767216</td>\n",
       "      <td>1565.867725</td>\n",
       "      <td>1584.424519</td>\n",
       "      <td>1592.053801</td>\n",
       "      <td>1618.532561</td>\n",
       "      <td>1463.787723</td>\n",
       "      <td>-14.084667</td>\n",
       "    </tr>\n",
       "    <tr>\n",
       "      <th>Haiti</th>\n",
       "      <td>3541.410107</td>\n",
       "      <td>3537.293354</td>\n",
       "      <td>3284.997484</td>\n",
       "      <td>3047.948856</td>\n",
       "      <td>2633.701466</td>\n",
       "      <td>2841.236083</td>\n",
       "      <td>2905.313406</td>\n",
       "      <td>2930.608790</td>\n",
       "      <td>2941.814912</td>\n",
       "      <td>2969.101917</td>\n",
       "      <td>...</td>\n",
       "      <td>2973.969059</td>\n",
       "      <td>3057.915421</td>\n",
       "      <td>3066.850417</td>\n",
       "      <td>3102.345013</td>\n",
       "      <td>3116.487974</td>\n",
       "      <td>3153.299389</td>\n",
       "      <td>3165.304896</td>\n",
       "      <td>3073.329140</td>\n",
       "      <td>2934.245881</td>\n",
       "      <td>-10.620211</td>\n",
       "    </tr>\n",
       "    <tr>\n",
       "      <th>Zimbabwe</th>\n",
       "      <td>2652.129209</td>\n",
       "      <td>2733.696626</td>\n",
       "      <td>2437.152908</td>\n",
       "      <td>2420.092791</td>\n",
       "      <td>2603.927369</td>\n",
       "      <td>2573.993785</td>\n",
       "      <td>2808.558556</td>\n",
       "      <td>2856.118188</td>\n",
       "      <td>2915.052992</td>\n",
       "      <td>2872.714795</td>\n",
       "      <td>...</td>\n",
       "      <td>2339.177047</td>\n",
       "      <td>2343.679343</td>\n",
       "      <td>2357.651166</td>\n",
       "      <td>2360.022385</td>\n",
       "      <td>2341.304920</td>\n",
       "      <td>2416.049969</td>\n",
       "      <td>2497.136618</td>\n",
       "      <td>2310.634802</td>\n",
       "      <td>2134.555461</td>\n",
       "      <td>-5.844081</td>\n",
       "    </tr>\n",
       "    <tr>\n",
       "      <th>The Bahamas</th>\n",
       "      <td>38073.864915</td>\n",
       "      <td>35813.583502</td>\n",
       "      <td>33793.420401</td>\n",
       "      <td>33267.547694</td>\n",
       "      <td>33719.993787</td>\n",
       "      <td>34652.567587</td>\n",
       "      <td>35632.724126</td>\n",
       "      <td>37634.405830</td>\n",
       "      <td>35539.173049</td>\n",
       "      <td>39404.497657</td>\n",
       "      <td>...</td>\n",
       "      <td>36937.186550</td>\n",
       "      <td>35529.626170</td>\n",
       "      <td>35847.856048</td>\n",
       "      <td>35859.293750</td>\n",
       "      <td>35201.513603</td>\n",
       "      <td>35911.654353</td>\n",
       "      <td>36200.695882</td>\n",
       "      <td>36522.402991</td>\n",
       "      <td>27555.657353</td>\n",
       "      <td>-4.919829</td>\n",
       "    </tr>\n",
       "    <tr>\n",
       "      <th>The Gambia</th>\n",
       "      <td>2265.233478</td>\n",
       "      <td>2248.380560</td>\n",
       "      <td>2245.610806</td>\n",
       "      <td>2240.453519</td>\n",
       "      <td>2175.504420</td>\n",
       "      <td>2127.874727</td>\n",
       "      <td>2108.828492</td>\n",
       "      <td>2145.030905</td>\n",
       "      <td>2152.681998</td>\n",
       "      <td>2220.519642</td>\n",
       "      <td>...</td>\n",
       "      <td>2135.744238</td>\n",
       "      <td>2131.436027</td>\n",
       "      <td>2038.802518</td>\n",
       "      <td>2058.658146</td>\n",
       "      <td>2036.877159</td>\n",
       "      <td>2072.646833</td>\n",
       "      <td>2158.077558</td>\n",
       "      <td>2226.343905</td>\n",
       "      <td>2158.442317</td>\n",
       "      <td>-4.730458</td>\n",
       "    </tr>\n",
       "    <tr>\n",
       "      <th>Guinea-Bissau</th>\n",
       "      <td>1994.661475</td>\n",
       "      <td>2049.613967</td>\n",
       "      <td>2025.793924</td>\n",
       "      <td>2022.608737</td>\n",
       "      <td>2042.459307</td>\n",
       "      <td>2088.255302</td>\n",
       "      <td>2284.369157</td>\n",
       "      <td>2386.301545</td>\n",
       "      <td>1683.250217</td>\n",
       "      <td>1667.631530</td>\n",
       "      <td>...</td>\n",
       "      <td>1760.883995</td>\n",
       "      <td>1770.476147</td>\n",
       "      <td>1740.896737</td>\n",
       "      <td>1800.063382</td>\n",
       "      <td>1864.263035</td>\n",
       "      <td>1925.237737</td>\n",
       "      <td>1901.931739</td>\n",
       "      <td>1939.289510</td>\n",
       "      <td>1847.465824</td>\n",
       "      <td>-4.648896</td>\n",
       "    </tr>\n",
       "    <tr>\n",
       "      <th>Fragile and conflict affected situations</th>\n",
       "      <td>4874.531032</td>\n",
       "      <td>4345.242878</td>\n",
       "      <td>4099.318550</td>\n",
       "      <td>3772.346721</td>\n",
       "      <td>3331.378690</td>\n",
       "      <td>3156.953521</td>\n",
       "      <td>3108.985707</td>\n",
       "      <td>3151.858871</td>\n",
       "      <td>3224.586951</td>\n",
       "      <td>3256.434941</td>\n",
       "      <td>...</td>\n",
       "      <td>4639.869448</td>\n",
       "      <td>4689.209784</td>\n",
       "      <td>4632.042390</td>\n",
       "      <td>4587.098910</td>\n",
       "      <td>4635.966326</td>\n",
       "      <td>4679.001756</td>\n",
       "      <td>4719.134649</td>\n",
       "      <td>4734.009929</td>\n",
       "      <td>4450.512739</td>\n",
       "      <td>-3.187925</td>\n",
       "    </tr>\n",
       "    <tr>\n",
       "      <th>Kyrgyz Republic</th>\n",
       "      <td>5158.317569</td>\n",
       "      <td>4671.522850</td>\n",
       "      <td>3978.909914</td>\n",
       "      <td>3362.829000</td>\n",
       "      <td>2688.351778</td>\n",
       "      <td>2517.284450</td>\n",
       "      <td>2656.017720</td>\n",
       "      <td>2877.098569</td>\n",
       "      <td>2893.417535</td>\n",
       "      <td>2954.954122</td>\n",
       "      <td>...</td>\n",
       "      <td>4259.318204</td>\n",
       "      <td>4631.403267</td>\n",
       "      <td>4722.086002</td>\n",
       "      <td>4805.141092</td>\n",
       "      <td>4912.382484</td>\n",
       "      <td>5046.691535</td>\n",
       "      <td>5133.151914</td>\n",
       "      <td>5258.366696</td>\n",
       "      <td>4726.196559</td>\n",
       "      <td>-0.487866</td>\n",
       "    </tr>\n",
       "  </tbody>\n",
       "</table>\n",
       "<p>17 rows × 32 columns</p>\n",
       "</div>"
      ],
      "text/plain": [
       "Year                                               1990           1991  \\\n",
       "Country                                                                  \n",
       "Dem. Rep. Congo                             1819.723315    1606.326694   \n",
       "United Arab Emirates                      111454.055665  106103.552655   \n",
       "Burundi                                     1184.842032    1215.887215   \n",
       "Ukraine                                    16428.480469   14967.733398   \n",
       "Congo                                       5068.286948    5049.206077   \n",
       "Central African Republic                    1201.674665    1165.240259   \n",
       "Gabon                                      18179.170002   18770.603732   \n",
       "Tajikistan                                  4092.148779    3719.371003   \n",
       "Brunei                                     71232.789430   71405.378117   \n",
       "Madagascar                                  1853.049669    1686.157177   \n",
       "Haiti                                       3541.410107    3537.293354   \n",
       "Zimbabwe                                    2652.129209    2733.696626   \n",
       "The Bahamas                                38073.864915   35813.583502   \n",
       "The Gambia                                  2265.233478    2248.380560   \n",
       "Guinea-Bissau                               1994.661475    2049.613967   \n",
       "Fragile and conflict affected situations    4874.531032    4345.242878   \n",
       "Kyrgyz Republic                             5158.317569    4671.522850   \n",
       "\n",
       "Year                                               1992          1993  \\\n",
       "Country                                                                 \n",
       "Dem. Rep. Congo                             1382.761987   1150.836230   \n",
       "United Arab Emirates                      103470.924576  98978.474614   \n",
       "Burundi                                     1202.106321   1105.228711   \n",
       "Ukraine                                    13447.164062  11531.298828   \n",
       "Congo                                       5040.357668   4854.626404   \n",
       "Central African Republic                    1060.638246   1033.830959   \n",
       "Gabon                                      17704.526465  17917.219193   \n",
       "Tajikistan                                  2591.871631   2131.619060   \n",
       "Brunei                                     72705.728039  70908.808194   \n",
       "Madagascar                                  1656.344477   1641.210903   \n",
       "Haiti                                       3284.997484   3047.948856   \n",
       "Zimbabwe                                    2437.152908   2420.092791   \n",
       "The Bahamas                                33793.420401  33267.547694   \n",
       "The Gambia                                  2245.610806   2240.453519   \n",
       "Guinea-Bissau                               2025.793924   2022.608737   \n",
       "Fragile and conflict affected situations    4099.318550   3772.346721   \n",
       "Kyrgyz Republic                             3978.909914   3362.829000   \n",
       "\n",
       "Year                                               1994           1995  \\\n",
       "Country                                                                  \n",
       "Dem. Rep. Congo                             1066.468172    1039.752865   \n",
       "United Arab Emirates                      100213.156226  101570.992100   \n",
       "Burundi                                     1044.716092     947.822231   \n",
       "Ukraine                                     8934.775391    7906.957031   \n",
       "Congo                                       4461.657639    4510.633104   \n",
       "Central African Republic                    1053.745934    1098.894561   \n",
       "Gabon                                      18099.395717   18514.567979   \n",
       "Tajikistan                                  1652.224201    1425.582163   \n",
       "Brunei                                     71176.341934   72446.901629   \n",
       "Madagascar                                  1591.420007    1569.037457   \n",
       "Haiti                                       2633.701466    2841.236083   \n",
       "Zimbabwe                                    2603.927369    2573.993785   \n",
       "The Bahamas                                33719.993787   34652.567587   \n",
       "The Gambia                                  2175.504420    2127.874727   \n",
       "Guinea-Bissau                               2042.459307    2088.255302   \n",
       "Fragile and conflict affected situations    3331.378690    3156.953521   \n",
       "Kyrgyz Republic                             2688.351778    2517.284450   \n",
       "\n",
       "Year                                               1996           1997  \\\n",
       "Country                                                                  \n",
       "Dem. Rep. Congo                             1000.689174     921.422433   \n",
       "United Arab Emirates                      102211.638844  105108.996265   \n",
       "Burundi                                      861.482899     839.196865   \n",
       "Ukraine                                     7179.677734    7028.046387   \n",
       "Congo                                       4571.971362    4414.313537   \n",
       "Central African Republic                    1027.650038    1055.257751   \n",
       "Gabon                                      18703.166651   19284.530176   \n",
       "Tajikistan                                  1169.945378    1172.170092   \n",
       "Brunei                                     72695.152114   69939.977176   \n",
       "Madagascar                                  1553.575137    1560.974082   \n",
       "Haiti                                       2905.313406    2930.608790   \n",
       "Zimbabwe                                    2808.558556    2856.118188   \n",
       "The Bahamas                                35632.724126   37634.405830   \n",
       "The Gambia                                  2108.828492    2145.030905   \n",
       "Guinea-Bissau                               2284.369157    2386.301545   \n",
       "Fragile and conflict affected situations    3108.985707    3151.858871   \n",
       "Kyrgyz Republic                             2656.017720    2877.098569   \n",
       "\n",
       "Year                                               1998          1999  ...  \\\n",
       "Country                                                                ...   \n",
       "Dem. Rep. Congo                              885.785895    828.209256  ...   \n",
       "United Arab Emirates                      100100.435658  97698.537395  ...   \n",
       "Burundi                                      870.043821    850.046951  ...   \n",
       "Ukraine                                     6956.398926   7008.243652  ...   \n",
       "Congo                                       4448.409191   4209.771602  ...   \n",
       "Central African Republic                    1078.453826   1091.360827  ...   \n",
       "Gabon                                      19465.245278  17297.806005  ...   \n",
       "Tajikistan                                  1216.220057   1242.198818  ...   \n",
       "Brunei                                     67986.138352  68540.820930  ...   \n",
       "Madagascar                                  1571.629351   1594.476504  ...   \n",
       "Haiti                                       2941.814912   2969.101917  ...   \n",
       "Zimbabwe                                    2915.052992   2872.714795  ...   \n",
       "The Bahamas                                35539.173049  39404.497657  ...   \n",
       "The Gambia                                  2152.681998   2220.519642  ...   \n",
       "Guinea-Bissau                               1683.250217   1667.631530  ...   \n",
       "Fragile and conflict affected situations    3224.586951   3256.434941  ...   \n",
       "Kyrgyz Republic                             2893.417535   2954.954122  ...   \n",
       "\n",
       "Year                                              2012          2013  \\\n",
       "Country                                                                \n",
       "Dem. Rep. Congo                             926.787816    972.455934   \n",
       "United Arab Emirates                      57389.318786  59920.152313   \n",
       "Burundi                                     862.715651    877.272857   \n",
       "Ukraine                                   12985.086914  13020.600586   \n",
       "Congo                                      5504.184956   5331.904082   \n",
       "Central African Republic                   1300.288810    824.943276   \n",
       "Gabon                                     15082.656561  15342.181310   \n",
       "Tajikistan                                 2637.194886   2767.354769   \n",
       "Brunei                                    69090.341493  66715.692648   \n",
       "Madagascar                                 1538.516682   1531.778591   \n",
       "Haiti                                      2973.969059   3057.915421   \n",
       "Zimbabwe                                   2339.177047   2343.679343   \n",
       "The Bahamas                               36937.186550  35529.626170   \n",
       "The Gambia                                 2135.744238   2131.436027   \n",
       "Guinea-Bissau                              1760.883995   1770.476147   \n",
       "Fragile and conflict affected situations   4639.869448   4689.209784   \n",
       "Kyrgyz Republic                            4259.318204   4631.403267   \n",
       "\n",
       "Year                                              2014          2015  \\\n",
       "Country                                                                \n",
       "Dem. Rep. Congo                            1029.790813   1065.242371   \n",
       "United Arab Emirates                      62452.184508  65267.415127   \n",
       "Burundi                                     886.235296    825.205574   \n",
       "Ukraine                                   12385.813477  11216.118164   \n",
       "Congo                                      5552.844606   5224.302467   \n",
       "Central African Republic                    822.611195    852.749237   \n",
       "Gabon                                     15437.265029  15510.038951   \n",
       "Tajikistan                                 2883.697905   2984.518548   \n",
       "Brunei                                    64190.824147  63147.483490   \n",
       "Madagascar                                 1540.744961   1546.767216   \n",
       "Haiti                                      3066.850417   3102.345013   \n",
       "Zimbabwe                                   2357.651166   2360.022385   \n",
       "The Bahamas                               35847.856048  35859.293750   \n",
       "The Gambia                                 2038.802518   2058.658146   \n",
       "Guinea-Bissau                              1740.896737   1800.063382   \n",
       "Fragile and conflict affected situations   4632.042390   4587.098910   \n",
       "Kyrgyz Republic                            4722.086002   4805.141092   \n",
       "\n",
       "Year                                              2016          2017  \\\n",
       "Country                                                                \n",
       "Dem. Rep. Congo                            1055.572915   1059.810762   \n",
       "United Arab Emirates                      66510.893666  67183.605312   \n",
       "Burundi                                     794.604340    773.572859   \n",
       "Ukraine                                   11536.316406  11860.560547   \n",
       "Congo                                      4544.075841   4234.659883   \n",
       "Central African Republic                    884.495197    912.803045   \n",
       "Gabon                                     15359.740396  15006.844037   \n",
       "Tajikistan                                 3113.257637   3252.932655   \n",
       "Brunei                                    60867.291866  60994.531556   \n",
       "Madagascar                                 1565.867725   1584.424519   \n",
       "Haiti                                      3116.487974   3153.299389   \n",
       "Zimbabwe                                   2341.304920   2416.049969   \n",
       "The Bahamas                               35201.513603  35911.654353   \n",
       "The Gambia                                 2036.877159   2072.646833   \n",
       "Guinea-Bissau                              1864.263035   1925.237737   \n",
       "Fragile and conflict affected situations   4635.966326   4679.001756   \n",
       "Kyrgyz Republic                            4912.382484   5046.691535   \n",
       "\n",
       "Year                                              2018          2019  \\\n",
       "Country                                                                \n",
       "Dem. Rep. Congo                            1085.893688   1097.948840   \n",
       "United Arab Emirates                      66968.221181  68263.675535   \n",
       "Burundi                                     761.524143    751.443405   \n",
       "Ukraine                                   12336.926758  12804.955078   \n",
       "Congo                                      3928.427999   3825.701480   \n",
       "Central African Republic                    933.109951    946.059657   \n",
       "Gabon                                     14743.698243  14945.859294   \n",
       "Tajikistan                                 3415.299465   3581.409187   \n",
       "Brunei                                    60389.184647  62098.011380   \n",
       "Madagascar                                 1592.053801   1618.532561   \n",
       "Haiti                                      3165.304896   3073.329140   \n",
       "Zimbabwe                                   2497.136618   2310.634802   \n",
       "The Bahamas                               36200.695882  36522.402991   \n",
       "The Gambia                                 2158.077558   2226.343905   \n",
       "Guinea-Bissau                              1901.931739   1939.289510   \n",
       "Fragile and conflict affected situations   4719.134649   4734.009929   \n",
       "Kyrgyz Republic                            5133.151914   5258.366696   \n",
       "\n",
       "Year                                              2020  Percent_Change  \n",
       "Country                                                                 \n",
       "Dem. Rep. Congo                            1082.445242      -40.326440  \n",
       "United Arab Emirates                      63299.422971      -39.914056  \n",
       "Burundi                                     731.064074      -35.727791  \n",
       "Ukraine                                   12407.790039      -24.905247  \n",
       "Congo                                      3497.565454      -22.490024  \n",
       "Central African Republic                    937.856470      -22.349203  \n",
       "Gabon                                     14320.844646      -18.897847  \n",
       "Tajikistan                                 3654.072934      -16.540193  \n",
       "Brunei                                    62200.882043      -15.222772  \n",
       "Madagascar                                 1463.787723      -14.084667  \n",
       "Haiti                                      2934.245881      -10.620211  \n",
       "Zimbabwe                                   2134.555461       -5.844081  \n",
       "The Bahamas                               27555.657353       -4.919829  \n",
       "The Gambia                                 2158.442317       -4.730458  \n",
       "Guinea-Bissau                              1847.465824       -4.648896  \n",
       "Fragile and conflict affected situations   4450.512739       -3.187925  \n",
       "Kyrgyz Republic                            4726.196559       -0.487866  \n",
       "\n",
       "[17 rows x 32 columns]"
      ]
     },
     "execution_count": 36,
     "metadata": {},
     "output_type": "execute_result"
    }
   ],
   "source": [
    "gdp_pivoted['Percent_Change'] = 100*(gdp_pivoted[2018]-gdp_pivoted[1990])/gdp_pivoted[1990]\n",
    "gdp_pivoted[gdp_pivoted['Percent_Change']<0].sort_values('Percent_Change')"
   ]
  },
  {
   "cell_type": "markdown",
   "metadata": {},
   "source": [
    "Answer to question 15:\n",
    "17 countries experienced negative GDP growth from 1990 to 2018."
   ]
  },
  {
   "cell_type": "code",
   "execution_count": 37,
   "metadata": {
    "tags": []
   },
   "outputs": [
    {
     "name": "stdout",
     "output_type": "stream",
     "text": [
      "Country\n",
      "Equatorial Guinea                              1860.221820\n",
      "China                                           962.857956\n",
      "Myanmar                                         691.854635\n",
      "East Asia & Pacific (excluding high income)     527.796116\n",
      "East Asia & Pacific (IDA & IBRD)                527.522835\n",
      "Name: Percent_Change, dtype: float64\n"
     ]
    },
    {
     "data": {
      "image/png": "[encoded data removed]",
      "text/plain": [
       "<Figure size 432x288 with 1 Axes>"
      ]
     },
     "metadata": {
      "needs_background": "light"
     },
     "output_type": "display_data"
    }
   ],
   "source": [
    "print(gdp_pivoted.sort_values('Percent_Change',ascending=False).head()['Percent_Change'])\n",
    "plt.plot(gdp_pivoted.loc['Equatorial Guinea'].loc[1990:2018])\n",
    "plt.plot(gdp_pivoted.loc['China'].loc[1990:2018])\n",
    "plt.legend(['Equatorial Guinea','China'])\n",
    "plt.show()"
   ]
  },
  {
   "cell_type": "markdown",
   "metadata": {},
   "source": [
    "Answers to question 16:\n",
    "Equatorial Guinea had the highest % GDP/Capita growth from 1990 to 2018.\n",
    "China had the 2nd highest % GDP/Capita growth from 1990 to 2018.\n",
    "\n",
    "China had a much more steady growth rate whereas Equatorial Guinea had an inconsistent but seemingly exponential growth rate up until ~2017, at which point Equatorial Guinea's % GDP/Capita growth began to rapidly decline."
   ]
  },
  {
   "cell_type": "code",
   "execution_count": 38,
   "metadata": {
    "tags": []
   },
   "outputs": [
    {
     "name": "stdout",
     "output_type": "stream",
     "text": [
      "  Continent      Country  Year  GDP_Per_Capita\n",
      "0      Asia  Afghanistan  2020     1970.560169\n",
      "1      Asia  Afghanistan  2019     2065.036235\n",
      "2      Asia  Afghanistan  2018     2033.804389\n",
      "3      Asia  Afghanistan  2017     2058.400221\n",
      "4      Asia  Afghanistan  2016     2057.067978\n"
     ]
    }
   ],
   "source": [
    "continents = pd.read_csv('../data/continents.csv')\n",
    "gdp_df=continents.merge(gdp_df,how='inner')\n",
    "print(gdp_df.head())"
   ]
  },
  {
   "cell_type": "code",
   "execution_count": 39,
   "metadata": {
    "tags": []
   },
   "outputs": [
    {
     "name": "stdout",
     "output_type": "stream",
     "text": [
      "Continent\n",
      "Africa           50\n",
      "Asia             42\n",
      "Europe           45\n",
      "North America    26\n",
      "Oceania          14\n",
      "South America    11\n",
      "Name: Country, dtype: int64\n"
     ]
    },
    {
     "data": {
      "text/plain": [
       "<BarContainer object of 6 artists>"
      ]
     },
     "execution_count": 39,
     "metadata": {},
     "output_type": "execute_result"
    },
    {
     "data": {
      "image/png": "[encoded data removed]",
      "text/plain": [
       "<Figure size 432x288 with 1 Axes>"
      ]
     },
     "metadata": {
      "needs_background": "light"
     },
     "output_type": "display_data"
    }
   ],
   "source": [
    "print(gdp_df.groupby('Continent')['Country'].nunique())\n",
    "#gdp_df.groupby('Continent')['Country'].nunique().plot.bar()\n",
    "plt.xticks(rotation=75)\n",
    "plt.bar(gdp_df.groupby('Continent')['Country'].nunique().index,gdp_df.groupby('Continent')['Country'].nunique())"
   ]
  },
  {
   "cell_type": "code",
   "execution_count": 40,
   "metadata": {
    "tags": []
   },
   "outputs": [
    {
     "data": {
      "text/plain": [
       "<matplotlib.axes._subplots.AxesSubplot at 0x1d0b443a988>"
      ]
     },
     "execution_count": 40,
     "metadata": {},
     "output_type": "execute_result"
    },
    {
     "data": {
      "image/png": "[encoded data removed]",
      "text/plain": [
       "<Figure size 432x288 with 1 Axes>"
      ]
     },
     "metadata": {
      "needs_background": "light"
     },
     "output_type": "display_data"
    }
   ],
   "source": [
    "sns.boxplot(data=gdp_df[gdp_df['Year']==2018],x='GDP_Per_Capita',y='Continent')"
   ]
  },
  {
   "cell_type": "markdown",
   "metadata": {},
   "source": [
    "Answers to question 20:\n",
    "There's a lot I could comment on with this boxplot, and I'm not sure any one observation stands out among the rest.\n",
    "\n",
    "Europe has the highest median GDP/capita. Africa has the lowest median.\n",
    "\n",
    "Asia has the widest distribution of GDP/capita - its poor countries are really poor, and its rich countries are really rich.\n",
    "\n",
    "All continents' distribution of GDP/capita appears to be right-skewed - there are a few extremely rich countries bringing up the mean while the median remains low. This is less exaggerated in South America than in other continents."
   ]
  },
  {
   "cell_type": "code",
   "execution_count": 41,
   "metadata": {},
   "outputs": [
    {
     "data": {
      "text/html": [
       "<div>\n",
       "<style scoped>\n",
       "    .dataframe tbody tr th:only-of-type {\n",
       "        vertical-align: middle;\n",
       "    }\n",
       "\n",
       "    .dataframe tbody tr th {\n",
       "        vertical-align: top;\n",
       "    }\n",
       "\n",
       "    .dataframe thead th {\n",
       "        text-align: right;\n",
       "    }\n",
       "</style>\n",
       "<table border=\"1\" class=\"dataframe\">\n",
       "  <thead>\n",
       "    <tr style=\"text-align: right;\">\n",
       "      <th></th>\n",
       "      <th>Country</th>\n",
       "      <th>Year</th>\n",
       "      <th>Life_Expectancy</th>\n",
       "    </tr>\n",
       "  </thead>\n",
       "  <tbody>\n",
       "    <tr>\n",
       "      <th>0</th>\n",
       "      <td>Aruba</td>\n",
       "      <td>1960</td>\n",
       "      <td>64.152000</td>\n",
       "    </tr>\n",
       "    <tr>\n",
       "      <th>1</th>\n",
       "      <td>Africa Eastern and Southern</td>\n",
       "      <td>1960</td>\n",
       "      <td>44.085552</td>\n",
       "    </tr>\n",
       "    <tr>\n",
       "      <th>2</th>\n",
       "      <td>Afghanistan</td>\n",
       "      <td>1960</td>\n",
       "      <td>32.535000</td>\n",
       "    </tr>\n",
       "    <tr>\n",
       "      <th>3</th>\n",
       "      <td>Africa Western and Central</td>\n",
       "      <td>1960</td>\n",
       "      <td>37.845152</td>\n",
       "    </tr>\n",
       "    <tr>\n",
       "      <th>4</th>\n",
       "      <td>Angola</td>\n",
       "      <td>1960</td>\n",
       "      <td>38.211000</td>\n",
       "    </tr>\n",
       "  </tbody>\n",
       "</table>\n",
       "</div>"
      ],
      "text/plain": [
       "                       Country  Year  Life_Expectancy\n",
       "0                        Aruba  1960        64.152000\n",
       "1  Africa Eastern and Southern  1960        44.085552\n",
       "2                  Afghanistan  1960        32.535000\n",
       "3   Africa Western and Central  1960        37.845152\n",
       "4                       Angola  1960        38.211000"
      ]
     },
     "execution_count": 41,
     "metadata": {},
     "output_type": "execute_result"
    }
   ],
   "source": [
    "life_expectancy = pd.read_csv('../data/API_SP.DYN.LE00.IN_DS2_en_csv_v2_5839536.csv',skiprows=[0,2])\n",
    "life_expectancy=(life_expectancy\n",
    "                 .drop(columns=[\"Country Code\",\"Indicator Name\", \"Indicator Code\"])\n",
    "                 .melt(id_vars=\"Country Name\",var_name='Year', value_name='Life_Expectancy')\n",
    "                 .rename(columns = {\"Country Name\":\"Country\"})\n",
    "                )\n",
    "life_expectancy.head()"
   ]
  },
  {
   "cell_type": "code",
   "execution_count": 42,
   "metadata": {},
   "outputs": [
    {
     "name": "stdout",
     "output_type": "stream",
     "text": [
      "Country                Japan\n",
      "Year                    1996\n",
      "Life_Expectancy    80.219756\n",
      "Name: 9695, dtype: object\n"
     ]
    }
   ],
   "source": [
    "print(life_expectancy[life_expectancy.Life_Expectancy>80].iloc[0])"
   ]
  },
  {
   "cell_type": "markdown",
   "metadata": {},
   "source": [
    "Answer to Question 23:\n",
    "Japan was the first country with a life expectancy to exceed 80, and they acheived this in 1996."
   ]
  },
  {
   "cell_type": "code",
   "execution_count": 43,
   "metadata": {},
   "outputs": [
    {
     "name": "stdout",
     "output_type": "stream",
     "text": [
      "<class 'numpy.int64'>\n",
      "<class 'str'>\n",
      "<class 'numpy.int64'>\n",
      "                Country  Year  Life_Expectancy      Continent  GDP_Per_Capita\n",
      "0                 Aruba  1990           73.076  North America    32589.018572\n",
      "1                Angola  1990           41.893         Africa     5758.950488\n",
      "2               Albania  1990           73.144         Europe     4827.034551\n",
      "3  United Arab Emirates  1990           71.900           Asia   111454.055665\n",
      "4             Argentina  1990           71.784  South America    14144.763670\n",
      "           Country  Year  Life_Expectancy Continent  GDP_Per_Capita\n",
      "5236         Samoa  2020           72.768   Oceania     6413.330111\n",
      "5237        Kosovo  2020           76.567    Europe    10706.513976\n",
      "5238  South Africa  2020           65.252    Africa    12665.832404\n",
      "5239        Zambia  2020           62.380    Africa     3277.816510\n",
      "5240      Zimbabwe  2020           61.124    Africa     2134.555461\n"
     ]
    }
   ],
   "source": [
    "'''\n",
    "Lots of difficulties merging gdp_df and life_expectancy because 'Year' is an int in gdp_df but a string in life_expectancy.\n",
    "'Year' is a string in life_expectancy because of rows that contain 'Unnamed:67'.\n",
    "This is addressed in the rows below, where I:\n",
    "1) check the data types in both data frames\n",
    "2) delete rows in life_expectancy's year column that contain 'Unnamed: 67'\n",
    "3) convert the remainder of that column to an int\n",
    "4) check that it was actually converted to an int.\n",
    "'''\n",
    "print(type(gdp_df['Year'].iloc[0]))\n",
    "print(type(life_expectancy['Year'].iloc[0]))\n",
    "life_expectancy=life_expectancy[life_expectancy.Year != 'Unnamed: 67']\n",
    "life_expectancy['Year']=life_expectancy['Year'].astype(np.int64)\n",
    "print(type(life_expectancy['Year'].iloc[0]))\n",
    "#This line ends the aformentioned conversion of life_expectancy's year column from string to int.\n",
    "\n",
    "gdp_le = life_expectancy.merge(gdp_df,how='inner',on=[\"Country\",\"Year\"])\n",
    "print(gdp_le.head())\n",
    "print(gdp_le.tail())"
   ]
  },
  {
   "cell_type": "code",
   "execution_count": 44,
   "metadata": {},
   "outputs": [
    {
     "name": "stdout",
     "output_type": "stream",
     "text": [
      "Country            34\n",
      "Year               34\n",
      "Life_Expectancy    34\n",
      "Continent          34\n",
      "GDP_Per_Capita     34\n",
      "dtype: int64\n"
     ]
    }
   ],
   "source": [
    "gdp_le_2019=gdp_le[gdp_le.Year == 2019]\n",
    "print(gdp_le_2019[gdp_le_2019['Life_Expectancy']>=80].count())"
   ]
  },
  {
   "cell_type": "markdown",
   "metadata": {},
   "source": [
    "Answer to question 25:\n",
    "34 countries had a life expectancy of at least 80 in 2019."
   ]
  },
  {
   "cell_type": "markdown",
   "metadata": {},
   "source": [
    "Answer to question 26 below:"
   ]
  },
  {
   "cell_type": "code",
   "execution_count": 45,
   "metadata": {},
   "outputs": [
    {
     "name": "stdout",
     "output_type": "stream",
     "text": [
      "4983    Macao SAR, China\n",
      "4981          Luxembourg\n",
      "5028           Singapore\n",
      "Name: Country, dtype: object\n"
     ]
    },
    {
     "data": {
      "text/plain": [
       "<seaborn.axisgrid.FacetGrid at 0x1d0b452c248>"
      ]
     },
     "execution_count": 45,
     "metadata": {},
     "output_type": "execute_result"
    },
    {
     "data": {
      "image/png": "[encoded data removed]",
      "text/plain": [
       "<Figure size 648x216 with 3 Axes>"
      ]
     },
     "metadata": {
      "needs_background": "light"
     },
     "output_type": "display_data"
    }
   ],
   "source": [
    "gdp_le_2019 = gdp_le_2019.sort_values('GDP_Per_Capita',ascending=False)\n",
    "print(gdp_le_2019['Country'][0:3])\n",
    "#print(gdp_le[(gdp_le['Country'] == 'Macao SAR, China') | (gdp_le['Country'] == 'Luxembourg') | (gdp_le['Country'] == 'Singapore')])\n",
    "facetload = sns.FacetGrid(data=gdp_le[(gdp_le['Country'] == 'Macao SAR, China') | (gdp_le['Country'] == 'Luxembourg') | (gdp_le['Country'] == 'Singapore')], col = 'Country')\n",
    "facetload.map(sns.scatterplot, 'Year','GDP_Per_Capita')"
   ]
  },
  {
   "cell_type": "code",
   "execution_count": 46,
   "metadata": {},
   "outputs": [
    {
     "data": {
      "text/plain": [
       "<matplotlib.collections.PathCollection at 0x1d0b4670648>"
      ]
     },
     "execution_count": 46,
     "metadata": {},
     "output_type": "execute_result"
    },
    {
     "data": {
      "image/png": "[encoded data removed]",
      "text/plain": [
       "<Figure size 432x288 with 1 Axes>"
      ]
     },
     "metadata": {
      "needs_background": "light"
     },
     "output_type": "display_data"
    }
   ],
   "source": [
    "#Question 27: Create a scatter plot of Life Expectancy vs GDP per Capita for the year 2019. What do you notice?\n",
    "plt.scatter(x=gdp_le_2019['GDP_Per_Capita'], y=gdp_le_2019['Life_Expectancy'])"
   ]
  },
  {
   "cell_type": "markdown",
   "metadata": {},
   "source": [
    "Answer to question 27:\n",
    "\n",
    "In general, as GDP per capita increases, life expectancy increases, but it increases as a decreasing rate (i.e. countries with really high GDP per capita don't have significantly higher life expectancy than countries with median GDP per capita, but median GDP per capita countries have much higher life expectancy than the poorest countries)."
   ]
  },
  {
   "cell_type": "code",
   "execution_count": 47,
   "metadata": {},
   "outputs": [
    {
     "name": "stdout",
     "output_type": "stream",
     "text": [
      "r = 0.7261468254863799\n",
      "R^2 = 0.5272892121639471\n"
     ]
    }
   ],
   "source": [
    "#Question 28: Find the correlation between Life Expectancy and GDP per Capita for the year 2019. What is the meaning of this number?\n",
    "r = gdp_le_2019[['Life_Expectancy','GDP_Per_Capita']].corr()['Life_Expectancy']['GDP_Per_Capita']\n",
    "print('r = ' + str(r))\n",
    "print('R^2 = ' + str(r**2))"
   ]
  },
  {
   "cell_type": "markdown",
   "metadata": {},
   "source": [
    "Answer to question 28:\n",
    "This correlation coefficient of 0.726 between Life Expectancy and GDP Per Capita in 2019 is a numerical metric of the extent of a linear relationship for these 2 variables. \n",
    "\n",
    "The R^2 value of 0.527 is another common way of measuring this relationship, but it is not technically the correlation coefficient by definition. \n",
    "\n",
    "These numbers and the scatter plot from before indicate to me that these variables do not have a strong linear relationship. Based on the graph from before, I do think they likely are related - just not linearly."
   ]
  },
  {
   "cell_type": "code",
   "execution_count": 48,
   "metadata": {},
   "outputs": [
    {
     "name": "stdout",
     "output_type": "stream",
     "text": [
      "r = 0.8627345814622118\n",
      "R^2 = 0.7443109580507778\n"
     ]
    },
    {
     "data": {
      "text/plain": [
       "<matplotlib.collections.PathCollection at 0x1d0b56b3348>"
      ]
     },
     "execution_count": 48,
     "metadata": {},
     "output_type": "execute_result"
    },
    {
     "data": {
      "image/png": "[encoded data removed]",
      "text/plain": [
       "<Figure size 432x288 with 1 Axes>"
      ]
     },
     "metadata": {
      "needs_background": "light"
     },
     "output_type": "display_data"
    }
   ],
   "source": [
    "#Question 29: Add a column to gdp_le_2019 and calculate the logarithm of GDP per capita. Find the correlation between the log of GDP per capita and life expectancy. How does this compare to the calculation in the previous part? Look at a scatter plot to see if the result of this calculation makes sense.\n",
    "gdp_le_2019['log_gdp']= np.log(gdp_le_2019['GDP_Per_Capita'])\n",
    "r = gdp_le_2019[['Life_Expectancy','log_gdp']].corr()['Life_Expectancy']['log_gdp']\n",
    "print('r = ' + str(r))\n",
    "print('R^2 = ' + str(r**2))\n",
    "plt.scatter(x=gdp_le_2019['log_gdp'], y=gdp_le_2019['Life_Expectancy'])"
   ]
  },
  {
   "cell_type": "markdown",
   "metadata": {},
   "source": [
    "Answers to question 29:\n",
    "The correlation coefficient, r = 0.863, is much higher than it was before the log transformation. This also leads to a higher R^2 value of 0.744.\n",
    "This indicates that life expectancy in 2019 has a much stronger linear relationship with the log of GDP per capita than just GDP per capita alone. The scatter plot of life expectancy vs. the log transformed GDP per capita also indicates a strong linear relationship than before the log transformation."
   ]
  }
 ],
 "metadata": {
  "kernelspec": {
   "display_name": "Python 3",
   "language": "python",
   "name": "python3"
  },
  "language_info": {
   "codemirror_mode": {
    "name": "ipython",
    "version": 3
   },
   "file_extension": ".py",
   "mimetype": "text/x-python",
   "name": "python",
   "nbconvert_exporter": "python",
   "pygments_lexer": "ipython3",
   "version": "3.7.6"
  }
 },
 "nbformat": 4,
 "nbformat_minor": 4
}
