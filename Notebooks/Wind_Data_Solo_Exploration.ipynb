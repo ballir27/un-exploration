{
 "cells": [
  {
   "cell_type": "code",
   "execution_count": 130,
   "metadata": {},
   "outputs": [],
   "source": [
    "import pandas as pd\n",
    "import numpy as np\n",
    "import matplotlib.pyplot as plt\n",
    "import seaborn as sns\n",
    "import scipy.stats as st"
   ]
  },
  {
   "cell_type": "code",
   "execution_count": 131,
   "metadata": {},
   "outputs": [
    {
     "name": "stdout",
     "output_type": "stream",
     "text": [
      "(2240, 6)\n",
      "Index(['Country or Area', 'Commodity - Transaction', 'Year', 'Unit',\n",
      "       'Quantity', 'Quantity Footnotes'],\n",
      "      dtype='object')\n",
      "(2238, 5)\n",
      "  Country or Area              Commodity - Transaction    Year  \\\n",
      "0         Algeria  Electricity - total wind production  2020.0   \n",
      "1         Algeria  Electricity - total wind production  2019.0   \n",
      "2         Algeria  Electricity - total wind production  2018.0   \n",
      "3         Algeria  Electricity - total wind production  2017.0   \n",
      "4         Algeria  Electricity - total wind production  2016.0   \n",
      "5         Algeria  Electricity - total wind production  2015.0   \n",
      "6         Algeria  Electricity - total wind production  2014.0   \n",
      "7       Argentina  Electricity - total wind production  2021.0   \n",
      "8       Argentina  Electricity - total wind production  2020.0   \n",
      "9       Argentina  Electricity - total wind production  2019.0   \n",
      "\n",
      "                      Unit   Quantity  \n",
      "0  Kilowatt-hours, million      7.701  \n",
      "1  Kilowatt-hours, million     11.690  \n",
      "2  Kilowatt-hours, million     10.520  \n",
      "3  Kilowatt-hours, million     19.400  \n",
      "4  Kilowatt-hours, million     19.400  \n",
      "5  Kilowatt-hours, million     19.240  \n",
      "6  Kilowatt-hours, million      1.000  \n",
      "7  Kilowatt-hours, million  12938.000  \n",
      "8  Kilowatt-hours, million   9412.333  \n",
      "9  Kilowatt-hours, million   4996.000  \n",
      "     Country or Area              Commodity - Transaction    Year  \\\n",
      "2228        Viet Nam  Electricity - total wind production  2017.0   \n",
      "2229        Viet Nam  Electricity - total wind production  2016.0   \n",
      "2230        Viet Nam  Electricity - total wind production  2015.0   \n",
      "2231        Viet Nam  Electricity - total wind production  2014.0   \n",
      "2232        Viet Nam  Electricity - total wind production  2013.0   \n",
      "2233        Viet Nam  Electricity - total wind production  2012.0   \n",
      "2234        Viet Nam  Electricity - total wind production  2011.0   \n",
      "2235        Viet Nam  Electricity - total wind production  2010.0   \n",
      "2236        Viet Nam  Electricity - total wind production  2009.0   \n",
      "2237        Viet Nam  Electricity - total wind production  2008.0   \n",
      "\n",
      "                         Unit  Quantity  \n",
      "2228  Kilowatt-hours, million     270.0  \n",
      "2229  Kilowatt-hours, million     221.0  \n",
      "2230  Kilowatt-hours, million     261.0  \n",
      "2231  Kilowatt-hours, million     300.0  \n",
      "2232  Kilowatt-hours, million      92.0  \n",
      "2233  Kilowatt-hours, million      92.0  \n",
      "2234  Kilowatt-hours, million      87.0  \n",
      "2235  Kilowatt-hours, million      50.0  \n",
      "2236  Kilowatt-hours, million      10.0  \n",
      "2237  Kilowatt-hours, million       1.0  \n"
     ]
    }
   ],
   "source": [
    "wind_df = pd.read_csv('../data/UNdata_Export_Wind_data.csv')\n",
    "print(wind_df.shape)\n",
    "print(wind_df.columns)\n",
    "wind_df = wind_df.drop(columns='Quantity Footnotes')\n",
    "wind_df = wind_df.dropna()\n",
    "print(wind_df.shape)\n",
    "print(wind_df.head(10))\n",
    "print(wind_df.tail(10))"
   ]
  },
  {
   "cell_type": "code",
   "execution_count": 132,
   "metadata": {},
   "outputs": [
    {
     "name": "stdout",
     "output_type": "stream",
     "text": [
      "Country or Area            2238\n",
      "Commodity - Transaction    2238\n",
      "Year                       2238\n",
      "Unit                       2238\n",
      "Quantity                   2238\n",
      "dtype: int64\n",
      "\n",
      "\n",
      "Country or Area            2238\n",
      "Commodity - Transaction    2238\n",
      "Year                       2238\n",
      "Unit                       2238\n",
      "Quantity                   2238\n",
      "dtype: int64\n",
      "\n",
      "\n",
      "     Country    Year  Total_Wind_GWh\n",
      "0    Algeria  2020.0           7.701\n",
      "1    Algeria  2019.0          11.690\n",
      "2    Algeria  2018.0          10.520\n",
      "3    Algeria  2017.0          19.400\n",
      "4    Algeria  2016.0          19.400\n",
      "5    Algeria  2015.0          19.240\n",
      "6    Algeria  2014.0           1.000\n",
      "7  Argentina  2021.0       12938.000\n",
      "8  Argentina  2020.0        9412.333\n",
      "9  Argentina  2019.0        4996.000\n",
      "       Country    Year  Total_Wind_GWh\n",
      "2228  Viet Nam  2017.0           270.0\n",
      "2229  Viet Nam  2016.0           221.0\n",
      "2230  Viet Nam  2015.0           261.0\n",
      "2231  Viet Nam  2014.0           300.0\n",
      "2232  Viet Nam  2013.0            92.0\n",
      "2233  Viet Nam  2012.0            92.0\n",
      "2234  Viet Nam  2011.0            87.0\n",
      "2235  Viet Nam  2010.0            50.0\n",
      "2236  Viet Nam  2009.0            10.0\n",
      "2237  Viet Nam  2008.0             1.0\n"
     ]
    }
   ],
   "source": [
    "print(wind_df[wind_df['Unit']=='Kilowatt-hours, million'].count())\n",
    "print(\"\\n\")\n",
    "print(wind_df[wind_df['Commodity - Transaction']=='Electricity - total wind production'].count())\n",
    "print(\"\\n\")\n",
    "wind_df = (wind_df\n",
    "    .drop(columns = ['Commodity - Transaction', 'Unit'])\n",
    "    .rename(columns = {'Quantity':'Total_Wind_GWh', 'Country or Area':'Country'})\n",
    "    )\n",
    "print(wind_df.head(10))\n",
    "print(wind_df.tail(10))"
   ]
  },
  {
   "cell_type": "code",
   "execution_count": 133,
   "metadata": {},
   "outputs": [
    {
     "name": "stdout",
     "output_type": "stream",
     "text": [
      "(137, 32)\n",
      "(13, 31)\n"
     ]
    }
   ],
   "source": [
    "wind_pivoted = wind_df.pivot_table(values = 'Total_Wind_GWh',index='Country', columns ='Year')\n",
    "print(wind_pivoted.shape)\n",
    "\n",
    "wind_pivoted_1990_2018 = (wind_pivoted\n",
    "                          #similar to gdp data - dropped rows with nan in 1990 and 2018\n",
    "                          .dropna(subset=[1990, 2018])\n",
    "                          #dropped 2021 since all rows are nan for remainining rows\n",
    "                          .drop(columns=[2021])\n",
    "                         )\n",
    "print(wind_pivoted_1990_2018.shape)"
   ]
  },
  {
   "cell_type": "markdown",
   "metadata": {},
   "source": [
    "Interesting to note that only 13 countries have wind data from 1990 to 2018, unlike the 206 that GDP for the same timeframe and the 137 total countries that have wind data at all - wind power is definitely a more recent development for many countries!"
   ]
  },
  {
   "cell_type": "code",
   "execution_count": 134,
   "metadata": {},
   "outputs": [
    {
     "data": {
      "text/html": [
       "<div>\n",
       "<style scoped>\n",
       "    .dataframe tbody tr th:only-of-type {\n",
       "        vertical-align: middle;\n",
       "    }\n",
       "\n",
       "    .dataframe tbody tr th {\n",
       "        vertical-align: top;\n",
       "    }\n",
       "\n",
       "    .dataframe thead th {\n",
       "        text-align: right;\n",
       "    }\n",
       "</style>\n",
       "<table border=\"1\" class=\"dataframe\">\n",
       "  <thead>\n",
       "    <tr style=\"text-align: right;\">\n",
       "      <th>Year</th>\n",
       "      <th>1990.0</th>\n",
       "      <th>1991.0</th>\n",
       "      <th>1992.0</th>\n",
       "      <th>1993.0</th>\n",
       "      <th>1994.0</th>\n",
       "      <th>1995.0</th>\n",
       "      <th>1996.0</th>\n",
       "      <th>1997.0</th>\n",
       "      <th>1998.0</th>\n",
       "      <th>1999.0</th>\n",
       "      <th>...</th>\n",
       "      <th>2012.0</th>\n",
       "      <th>2013.0</th>\n",
       "      <th>2014.0</th>\n",
       "      <th>2015.0</th>\n",
       "      <th>2016.0</th>\n",
       "      <th>2017.0</th>\n",
       "      <th>2018.0</th>\n",
       "      <th>2019.0</th>\n",
       "      <th>2020.0</th>\n",
       "      <th>Wind_Percent_Change</th>\n",
       "    </tr>\n",
       "    <tr>\n",
       "      <th>Country</th>\n",
       "      <th></th>\n",
       "      <th></th>\n",
       "      <th></th>\n",
       "      <th></th>\n",
       "      <th></th>\n",
       "      <th></th>\n",
       "      <th></th>\n",
       "      <th></th>\n",
       "      <th></th>\n",
       "      <th></th>\n",
       "      <th></th>\n",
       "      <th></th>\n",
       "      <th></th>\n",
       "      <th></th>\n",
       "      <th></th>\n",
       "      <th></th>\n",
       "      <th></th>\n",
       "      <th></th>\n",
       "      <th></th>\n",
       "      <th></th>\n",
       "      <th></th>\n",
       "    </tr>\n",
       "  </thead>\n",
       "  <tbody>\n",
       "    <tr>\n",
       "      <th>Mexico</th>\n",
       "      <td>1.0</td>\n",
       "      <td>1.0</td>\n",
       "      <td>1.0</td>\n",
       "      <td>1.0</td>\n",
       "      <td>5.0</td>\n",
       "      <td>7.0</td>\n",
       "      <td>6.0</td>\n",
       "      <td>12.0</td>\n",
       "      <td>15.0</td>\n",
       "      <td>17.0</td>\n",
       "      <td>...</td>\n",
       "      <td>3688.0</td>\n",
       "      <td>4185.0</td>\n",
       "      <td>6426.0</td>\n",
       "      <td>8745.0</td>\n",
       "      <td>10378.0</td>\n",
       "      <td>10441.830</td>\n",
       "      <td>12877.000</td>\n",
       "      <td>16880.000</td>\n",
       "      <td>19702.000</td>\n",
       "      <td>1.287600e+06</td>\n",
       "    </tr>\n",
       "    <tr>\n",
       "      <th>Portugal</th>\n",
       "      <td>1.0</td>\n",
       "      <td>1.0</td>\n",
       "      <td>4.0</td>\n",
       "      <td>11.0</td>\n",
       "      <td>17.0</td>\n",
       "      <td>16.0</td>\n",
       "      <td>21.0</td>\n",
       "      <td>38.0</td>\n",
       "      <td>89.0</td>\n",
       "      <td>123.0</td>\n",
       "      <td>...</td>\n",
       "      <td>10259.0</td>\n",
       "      <td>12014.0</td>\n",
       "      <td>12111.0</td>\n",
       "      <td>11608.0</td>\n",
       "      <td>12474.0</td>\n",
       "      <td>12247.853</td>\n",
       "      <td>12616.584</td>\n",
       "      <td>13666.949</td>\n",
       "      <td>12298.663</td>\n",
       "      <td>1.261558e+06</td>\n",
       "    </tr>\n",
       "    <tr>\n",
       "      <th>Italy</th>\n",
       "      <td>2.0</td>\n",
       "      <td>3.0</td>\n",
       "      <td>2.0</td>\n",
       "      <td>4.0</td>\n",
       "      <td>7.0</td>\n",
       "      <td>9.0</td>\n",
       "      <td>33.0</td>\n",
       "      <td>118.0</td>\n",
       "      <td>231.0</td>\n",
       "      <td>403.0</td>\n",
       "      <td>...</td>\n",
       "      <td>13407.0</td>\n",
       "      <td>14897.0</td>\n",
       "      <td>15178.0</td>\n",
       "      <td>14844.0</td>\n",
       "      <td>17689.0</td>\n",
       "      <td>17741.909</td>\n",
       "      <td>17716.434</td>\n",
       "      <td>20202.041</td>\n",
       "      <td>18761.557</td>\n",
       "      <td>8.857217e+05</td>\n",
       "    </tr>\n",
       "    <tr>\n",
       "      <th>United Kingdom</th>\n",
       "      <td>9.0</td>\n",
       "      <td>11.0</td>\n",
       "      <td>40.0</td>\n",
       "      <td>218.0</td>\n",
       "      <td>342.0</td>\n",
       "      <td>391.0</td>\n",
       "      <td>488.0</td>\n",
       "      <td>667.0</td>\n",
       "      <td>877.0</td>\n",
       "      <td>850.0</td>\n",
       "      <td>...</td>\n",
       "      <td>19847.0</td>\n",
       "      <td>28397.0</td>\n",
       "      <td>31959.0</td>\n",
       "      <td>40275.0</td>\n",
       "      <td>37159.0</td>\n",
       "      <td>49641.122</td>\n",
       "      <td>56907.615</td>\n",
       "      <td>63795.166</td>\n",
       "      <td>75369.123</td>\n",
       "      <td>6.322068e+05</td>\n",
       "    </tr>\n",
       "    <tr>\n",
       "      <th>Spain</th>\n",
       "      <td>14.0</td>\n",
       "      <td>15.0</td>\n",
       "      <td>103.0</td>\n",
       "      <td>116.0</td>\n",
       "      <td>175.0</td>\n",
       "      <td>270.0</td>\n",
       "      <td>364.0</td>\n",
       "      <td>742.0</td>\n",
       "      <td>1352.0</td>\n",
       "      <td>2744.0</td>\n",
       "      <td>...</td>\n",
       "      <td>49472.0</td>\n",
       "      <td>55646.0</td>\n",
       "      <td>52013.0</td>\n",
       "      <td>49325.0</td>\n",
       "      <td>48905.0</td>\n",
       "      <td>49127.000</td>\n",
       "      <td>50896.000</td>\n",
       "      <td>55647.000</td>\n",
       "      <td>56444.000</td>\n",
       "      <td>3.634429e+05</td>\n",
       "    </tr>\n",
       "    <tr>\n",
       "      <th>Greece</th>\n",
       "      <td>2.0</td>\n",
       "      <td>2.0</td>\n",
       "      <td>8.0</td>\n",
       "      <td>47.0</td>\n",
       "      <td>37.0</td>\n",
       "      <td>34.0</td>\n",
       "      <td>38.0</td>\n",
       "      <td>36.0</td>\n",
       "      <td>70.0</td>\n",
       "      <td>162.0</td>\n",
       "      <td>...</td>\n",
       "      <td>3850.0</td>\n",
       "      <td>4139.0</td>\n",
       "      <td>3689.0</td>\n",
       "      <td>4621.0</td>\n",
       "      <td>5146.0</td>\n",
       "      <td>5536.987</td>\n",
       "      <td>6300.259</td>\n",
       "      <td>7266.347</td>\n",
       "      <td>9310.104</td>\n",
       "      <td>3.149130e+05</td>\n",
       "    </tr>\n",
       "    <tr>\n",
       "      <th>Sweden</th>\n",
       "      <td>6.0</td>\n",
       "      <td>13.0</td>\n",
       "      <td>31.0</td>\n",
       "      <td>48.0</td>\n",
       "      <td>72.0</td>\n",
       "      <td>99.0</td>\n",
       "      <td>144.0</td>\n",
       "      <td>203.0</td>\n",
       "      <td>317.0</td>\n",
       "      <td>358.0</td>\n",
       "      <td>...</td>\n",
       "      <td>7164.0</td>\n",
       "      <td>9842.0</td>\n",
       "      <td>11235.0</td>\n",
       "      <td>16322.0</td>\n",
       "      <td>15479.0</td>\n",
       "      <td>17609.000</td>\n",
       "      <td>16623.000</td>\n",
       "      <td>19847.000</td>\n",
       "      <td>27526.000</td>\n",
       "      <td>2.769500e+05</td>\n",
       "    </tr>\n",
       "    <tr>\n",
       "      <th>India</th>\n",
       "      <td>32.0</td>\n",
       "      <td>39.0</td>\n",
       "      <td>52.0</td>\n",
       "      <td>57.0</td>\n",
       "      <td>182.0</td>\n",
       "      <td>498.0</td>\n",
       "      <td>926.0</td>\n",
       "      <td>1037.0</td>\n",
       "      <td>1127.0</td>\n",
       "      <td>1509.0</td>\n",
       "      <td>...</td>\n",
       "      <td>28365.0</td>\n",
       "      <td>33583.0</td>\n",
       "      <td>27057.0</td>\n",
       "      <td>30045.0</td>\n",
       "      <td>35530.0</td>\n",
       "      <td>38486.000</td>\n",
       "      <td>64294.000</td>\n",
       "      <td>69949.000</td>\n",
       "      <td>67418.000</td>\n",
       "      <td>2.008188e+05</td>\n",
       "    </tr>\n",
       "    <tr>\n",
       "      <th>Belgium</th>\n",
       "      <td>7.0</td>\n",
       "      <td>8.0</td>\n",
       "      <td>9.0</td>\n",
       "      <td>8.0</td>\n",
       "      <td>9.0</td>\n",
       "      <td>9.0</td>\n",
       "      <td>8.0</td>\n",
       "      <td>8.0</td>\n",
       "      <td>11.0</td>\n",
       "      <td>13.0</td>\n",
       "      <td>...</td>\n",
       "      <td>2751.0</td>\n",
       "      <td>3665.0</td>\n",
       "      <td>4615.0</td>\n",
       "      <td>5574.0</td>\n",
       "      <td>5417.0</td>\n",
       "      <td>6518.300</td>\n",
       "      <td>7571.400</td>\n",
       "      <td>9750.200</td>\n",
       "      <td>12763.600</td>\n",
       "      <td>1.080629e+05</td>\n",
       "    </tr>\n",
       "    <tr>\n",
       "      <th>Netherlands</th>\n",
       "      <td>56.0</td>\n",
       "      <td>88.0</td>\n",
       "      <td>147.0</td>\n",
       "      <td>174.0</td>\n",
       "      <td>238.0</td>\n",
       "      <td>317.0</td>\n",
       "      <td>437.0</td>\n",
       "      <td>475.0</td>\n",
       "      <td>640.0</td>\n",
       "      <td>645.0</td>\n",
       "      <td>...</td>\n",
       "      <td>4981.0</td>\n",
       "      <td>5627.0</td>\n",
       "      <td>5797.0</td>\n",
       "      <td>7550.0</td>\n",
       "      <td>8170.0</td>\n",
       "      <td>10568.801</td>\n",
       "      <td>10548.511</td>\n",
       "      <td>11507.927</td>\n",
       "      <td>15339.130</td>\n",
       "      <td>1.873663e+04</td>\n",
       "    </tr>\n",
       "    <tr>\n",
       "      <th>United States</th>\n",
       "      <td>3066.0</td>\n",
       "      <td>3051.0</td>\n",
       "      <td>2917.0</td>\n",
       "      <td>3053.0</td>\n",
       "      <td>3483.0</td>\n",
       "      <td>3196.0</td>\n",
       "      <td>3410.0</td>\n",
       "      <td>3254.0</td>\n",
       "      <td>3018.0</td>\n",
       "      <td>4802.0</td>\n",
       "      <td>...</td>\n",
       "      <td>141922.0</td>\n",
       "      <td>169713.0</td>\n",
       "      <td>183892.0</td>\n",
       "      <td>192992.0</td>\n",
       "      <td>229471.0</td>\n",
       "      <td>257249.072</td>\n",
       "      <td>275834.468</td>\n",
       "      <td>298200.120</td>\n",
       "      <td>341818.283</td>\n",
       "      <td>8.896558e+03</td>\n",
       "    </tr>\n",
       "    <tr>\n",
       "      <th>Denmark</th>\n",
       "      <td>610.0</td>\n",
       "      <td>740.0</td>\n",
       "      <td>915.0</td>\n",
       "      <td>1034.0</td>\n",
       "      <td>1137.0</td>\n",
       "      <td>1177.0</td>\n",
       "      <td>1227.0</td>\n",
       "      <td>1934.0</td>\n",
       "      <td>2820.0</td>\n",
       "      <td>3029.0</td>\n",
       "      <td>...</td>\n",
       "      <td>10270.0</td>\n",
       "      <td>11123.0</td>\n",
       "      <td>13079.0</td>\n",
       "      <td>14133.0</td>\n",
       "      <td>12782.0</td>\n",
       "      <td>14780.000</td>\n",
       "      <td>13901.955</td>\n",
       "      <td>16149.833</td>\n",
       "      <td>16330.215</td>\n",
       "      <td>2.179009e+03</td>\n",
       "    </tr>\n",
       "  </tbody>\n",
       "</table>\n",
       "<p>12 rows × 32 columns</p>\n",
       "</div>"
      ],
      "text/plain": [
       "Year            1990.0  1991.0  1992.0  1993.0  1994.0  1995.0  1996.0  \\\n",
       "Country                                                                  \n",
       "Mexico             1.0     1.0     1.0     1.0     5.0     7.0     6.0   \n",
       "Portugal           1.0     1.0     4.0    11.0    17.0    16.0    21.0   \n",
       "Italy              2.0     3.0     2.0     4.0     7.0     9.0    33.0   \n",
       "United Kingdom     9.0    11.0    40.0   218.0   342.0   391.0   488.0   \n",
       "Spain             14.0    15.0   103.0   116.0   175.0   270.0   364.0   \n",
       "Greece             2.0     2.0     8.0    47.0    37.0    34.0    38.0   \n",
       "Sweden             6.0    13.0    31.0    48.0    72.0    99.0   144.0   \n",
       "India             32.0    39.0    52.0    57.0   182.0   498.0   926.0   \n",
       "Belgium            7.0     8.0     9.0     8.0     9.0     9.0     8.0   \n",
       "Netherlands       56.0    88.0   147.0   174.0   238.0   317.0   437.0   \n",
       "United States   3066.0  3051.0  2917.0  3053.0  3483.0  3196.0  3410.0   \n",
       "Denmark          610.0   740.0   915.0  1034.0  1137.0  1177.0  1227.0   \n",
       "\n",
       "Year            1997.0  1998.0  1999.0  ...    2012.0    2013.0    2014.0  \\\n",
       "Country                                 ...                                 \n",
       "Mexico            12.0    15.0    17.0  ...    3688.0    4185.0    6426.0   \n",
       "Portugal          38.0    89.0   123.0  ...   10259.0   12014.0   12111.0   \n",
       "Italy            118.0   231.0   403.0  ...   13407.0   14897.0   15178.0   \n",
       "United Kingdom   667.0   877.0   850.0  ...   19847.0   28397.0   31959.0   \n",
       "Spain            742.0  1352.0  2744.0  ...   49472.0   55646.0   52013.0   \n",
       "Greece            36.0    70.0   162.0  ...    3850.0    4139.0    3689.0   \n",
       "Sweden           203.0   317.0   358.0  ...    7164.0    9842.0   11235.0   \n",
       "India           1037.0  1127.0  1509.0  ...   28365.0   33583.0   27057.0   \n",
       "Belgium            8.0    11.0    13.0  ...    2751.0    3665.0    4615.0   \n",
       "Netherlands      475.0   640.0   645.0  ...    4981.0    5627.0    5797.0   \n",
       "United States   3254.0  3018.0  4802.0  ...  141922.0  169713.0  183892.0   \n",
       "Denmark         1934.0  2820.0  3029.0  ...   10270.0   11123.0   13079.0   \n",
       "\n",
       "Year              2015.0    2016.0      2017.0      2018.0      2019.0  \\\n",
       "Country                                                                  \n",
       "Mexico            8745.0   10378.0   10441.830   12877.000   16880.000   \n",
       "Portugal         11608.0   12474.0   12247.853   12616.584   13666.949   \n",
       "Italy            14844.0   17689.0   17741.909   17716.434   20202.041   \n",
       "United Kingdom   40275.0   37159.0   49641.122   56907.615   63795.166   \n",
       "Spain            49325.0   48905.0   49127.000   50896.000   55647.000   \n",
       "Greece            4621.0    5146.0    5536.987    6300.259    7266.347   \n",
       "Sweden           16322.0   15479.0   17609.000   16623.000   19847.000   \n",
       "India            30045.0   35530.0   38486.000   64294.000   69949.000   \n",
       "Belgium           5574.0    5417.0    6518.300    7571.400    9750.200   \n",
       "Netherlands       7550.0    8170.0   10568.801   10548.511   11507.927   \n",
       "United States   192992.0  229471.0  257249.072  275834.468  298200.120   \n",
       "Denmark          14133.0   12782.0   14780.000   13901.955   16149.833   \n",
       "\n",
       "Year                2020.0  Wind_Percent_Change  \n",
       "Country                                          \n",
       "Mexico           19702.000         1.287600e+06  \n",
       "Portugal         12298.663         1.261558e+06  \n",
       "Italy            18761.557         8.857217e+05  \n",
       "United Kingdom   75369.123         6.322068e+05  \n",
       "Spain            56444.000         3.634429e+05  \n",
       "Greece            9310.104         3.149130e+05  \n",
       "Sweden           27526.000         2.769500e+05  \n",
       "India            67418.000         2.008188e+05  \n",
       "Belgium          12763.600         1.080629e+05  \n",
       "Netherlands      15339.130         1.873663e+04  \n",
       "United States   341818.283         8.896558e+03  \n",
       "Denmark          16330.215         2.179009e+03  \n",
       "\n",
       "[12 rows x 32 columns]"
      ]
     },
     "execution_count": 134,
     "metadata": {},
     "output_type": "execute_result"
    }
   ],
   "source": [
    "wind_pivoted_1990_2018['Wind_Percent_Change'] = 100*(wind_pivoted_1990_2018[2018]-wind_pivoted_1990_2018[1990])/wind_pivoted_1990_2018[1990]\n",
    "\n",
    "#note - Japan has \"0.0\" GWh of wind production in 1990 - for the purpose of calculating % change, Japan is being dropped\n",
    "wind_pivoted_1990_2018 = wind_pivoted_1990_2018.drop(index=['Japan'])\n",
    "wind_pivoted_1990_2018 = wind_pivoted_1990_2018.sort_values('Wind_Percent_Change',ascending=False)\n",
    "wind_pivoted_1990_2018"
   ]
  },
  {
   "cell_type": "code",
   "execution_count": 135,
   "metadata": {},
   "outputs": [
    {
     "data": {
      "text/html": [
       "<div>\n",
       "<style scoped>\n",
       "    .dataframe tbody tr th:only-of-type {\n",
       "        vertical-align: middle;\n",
       "    }\n",
       "\n",
       "    .dataframe tbody tr th {\n",
       "        vertical-align: top;\n",
       "    }\n",
       "\n",
       "    .dataframe thead th {\n",
       "        text-align: right;\n",
       "    }\n",
       "</style>\n",
       "<table border=\"1\" class=\"dataframe\">\n",
       "  <thead>\n",
       "    <tr style=\"text-align: right;\">\n",
       "      <th>Year</th>\n",
       "      <th>1990.0</th>\n",
       "      <th>1991.0</th>\n",
       "      <th>1992.0</th>\n",
       "      <th>1993.0</th>\n",
       "      <th>1994.0</th>\n",
       "      <th>1995.0</th>\n",
       "      <th>1996.0</th>\n",
       "      <th>1997.0</th>\n",
       "      <th>1998.0</th>\n",
       "      <th>1999.0</th>\n",
       "      <th>...</th>\n",
       "      <th>2012.0</th>\n",
       "      <th>2013.0</th>\n",
       "      <th>2014.0</th>\n",
       "      <th>2015.0</th>\n",
       "      <th>2016.0</th>\n",
       "      <th>2017.0</th>\n",
       "      <th>2018.0</th>\n",
       "      <th>2019.0</th>\n",
       "      <th>2020.0</th>\n",
       "      <th>2021.0</th>\n",
       "    </tr>\n",
       "    <tr>\n",
       "      <th>Country</th>\n",
       "      <th></th>\n",
       "      <th></th>\n",
       "      <th></th>\n",
       "      <th></th>\n",
       "      <th></th>\n",
       "      <th></th>\n",
       "      <th></th>\n",
       "      <th></th>\n",
       "      <th></th>\n",
       "      <th></th>\n",
       "      <th></th>\n",
       "      <th></th>\n",
       "      <th></th>\n",
       "      <th></th>\n",
       "      <th></th>\n",
       "      <th></th>\n",
       "      <th></th>\n",
       "      <th></th>\n",
       "      <th></th>\n",
       "      <th></th>\n",
       "      <th></th>\n",
       "    </tr>\n",
       "  </thead>\n",
       "  <tbody>\n",
       "    <tr>\n",
       "      <th>China</th>\n",
       "      <td>NaN</td>\n",
       "      <td>NaN</td>\n",
       "      <td>NaN</td>\n",
       "      <td>NaN</td>\n",
       "      <td>NaN</td>\n",
       "      <td>NaN</td>\n",
       "      <td>NaN</td>\n",
       "      <td>NaN</td>\n",
       "      <td>NaN</td>\n",
       "      <td>NaN</td>\n",
       "      <td>...</td>\n",
       "      <td>95978.0</td>\n",
       "      <td>141197.0</td>\n",
       "      <td>159979.0</td>\n",
       "      <td>185766.0</td>\n",
       "      <td>237070.0</td>\n",
       "      <td>297230.000</td>\n",
       "      <td>365971.000</td>\n",
       "      <td>406030.000</td>\n",
       "      <td>466470.000</td>\n",
       "      <td>NaN</td>\n",
       "    </tr>\n",
       "    <tr>\n",
       "      <th>United States</th>\n",
       "      <td>3066.0</td>\n",
       "      <td>3051.0</td>\n",
       "      <td>2917.0</td>\n",
       "      <td>3053.0</td>\n",
       "      <td>3483.0</td>\n",
       "      <td>3196.0</td>\n",
       "      <td>3410.0</td>\n",
       "      <td>3254.0</td>\n",
       "      <td>3018.0</td>\n",
       "      <td>4802.0</td>\n",
       "      <td>...</td>\n",
       "      <td>141922.0</td>\n",
       "      <td>169713.0</td>\n",
       "      <td>183892.0</td>\n",
       "      <td>192992.0</td>\n",
       "      <td>229471.0</td>\n",
       "      <td>257249.072</td>\n",
       "      <td>275834.468</td>\n",
       "      <td>298200.120</td>\n",
       "      <td>341818.283</td>\n",
       "      <td>NaN</td>\n",
       "    </tr>\n",
       "    <tr>\n",
       "      <th>Germany</th>\n",
       "      <td>NaN</td>\n",
       "      <td>215.0</td>\n",
       "      <td>291.0</td>\n",
       "      <td>674.0</td>\n",
       "      <td>1428.0</td>\n",
       "      <td>1712.0</td>\n",
       "      <td>2078.0</td>\n",
       "      <td>3034.0</td>\n",
       "      <td>4593.0</td>\n",
       "      <td>5528.0</td>\n",
       "      <td>...</td>\n",
       "      <td>51680.0</td>\n",
       "      <td>52737.0</td>\n",
       "      <td>58497.0</td>\n",
       "      <td>80624.0</td>\n",
       "      <td>79924.0</td>\n",
       "      <td>105693.000</td>\n",
       "      <td>109951.000</td>\n",
       "      <td>125894.000</td>\n",
       "      <td>132102.000</td>\n",
       "      <td>NaN</td>\n",
       "    </tr>\n",
       "    <tr>\n",
       "      <th>United Kingdom</th>\n",
       "      <td>9.0</td>\n",
       "      <td>11.0</td>\n",
       "      <td>40.0</td>\n",
       "      <td>218.0</td>\n",
       "      <td>342.0</td>\n",
       "      <td>391.0</td>\n",
       "      <td>488.0</td>\n",
       "      <td>667.0</td>\n",
       "      <td>877.0</td>\n",
       "      <td>850.0</td>\n",
       "      <td>...</td>\n",
       "      <td>19847.0</td>\n",
       "      <td>28397.0</td>\n",
       "      <td>31959.0</td>\n",
       "      <td>40275.0</td>\n",
       "      <td>37159.0</td>\n",
       "      <td>49641.122</td>\n",
       "      <td>56907.615</td>\n",
       "      <td>63795.166</td>\n",
       "      <td>75369.123</td>\n",
       "      <td>NaN</td>\n",
       "    </tr>\n",
       "    <tr>\n",
       "      <th>India</th>\n",
       "      <td>32.0</td>\n",
       "      <td>39.0</td>\n",
       "      <td>52.0</td>\n",
       "      <td>57.0</td>\n",
       "      <td>182.0</td>\n",
       "      <td>498.0</td>\n",
       "      <td>926.0</td>\n",
       "      <td>1037.0</td>\n",
       "      <td>1127.0</td>\n",
       "      <td>1509.0</td>\n",
       "      <td>...</td>\n",
       "      <td>28365.0</td>\n",
       "      <td>33583.0</td>\n",
       "      <td>27057.0</td>\n",
       "      <td>30045.0</td>\n",
       "      <td>35530.0</td>\n",
       "      <td>38486.000</td>\n",
       "      <td>64294.000</td>\n",
       "      <td>69949.000</td>\n",
       "      <td>67418.000</td>\n",
       "      <td>NaN</td>\n",
       "    </tr>\n",
       "    <tr>\n",
       "      <th>Brazil</th>\n",
       "      <td>NaN</td>\n",
       "      <td>NaN</td>\n",
       "      <td>NaN</td>\n",
       "      <td>NaN</td>\n",
       "      <td>NaN</td>\n",
       "      <td>NaN</td>\n",
       "      <td>NaN</td>\n",
       "      <td>NaN</td>\n",
       "      <td>NaN</td>\n",
       "      <td>NaN</td>\n",
       "      <td>...</td>\n",
       "      <td>5050.0</td>\n",
       "      <td>6579.0</td>\n",
       "      <td>12211.0</td>\n",
       "      <td>21626.0</td>\n",
       "      <td>33488.0</td>\n",
       "      <td>42373.000</td>\n",
       "      <td>48475.000</td>\n",
       "      <td>55986.000</td>\n",
       "      <td>57050.000</td>\n",
       "      <td>NaN</td>\n",
       "    </tr>\n",
       "    <tr>\n",
       "      <th>Spain</th>\n",
       "      <td>14.0</td>\n",
       "      <td>15.0</td>\n",
       "      <td>103.0</td>\n",
       "      <td>116.0</td>\n",
       "      <td>175.0</td>\n",
       "      <td>270.0</td>\n",
       "      <td>364.0</td>\n",
       "      <td>742.0</td>\n",
       "      <td>1352.0</td>\n",
       "      <td>2744.0</td>\n",
       "      <td>...</td>\n",
       "      <td>49472.0</td>\n",
       "      <td>55646.0</td>\n",
       "      <td>52013.0</td>\n",
       "      <td>49325.0</td>\n",
       "      <td>48905.0</td>\n",
       "      <td>49127.000</td>\n",
       "      <td>50896.000</td>\n",
       "      <td>55647.000</td>\n",
       "      <td>56444.000</td>\n",
       "      <td>NaN</td>\n",
       "    </tr>\n",
       "    <tr>\n",
       "      <th>France</th>\n",
       "      <td>NaN</td>\n",
       "      <td>NaN</td>\n",
       "      <td>NaN</td>\n",
       "      <td>2.0</td>\n",
       "      <td>5.0</td>\n",
       "      <td>5.0</td>\n",
       "      <td>7.0</td>\n",
       "      <td>11.0</td>\n",
       "      <td>19.0</td>\n",
       "      <td>37.0</td>\n",
       "      <td>...</td>\n",
       "      <td>15178.0</td>\n",
       "      <td>16127.0</td>\n",
       "      <td>17324.0</td>\n",
       "      <td>21420.0</td>\n",
       "      <td>21381.0</td>\n",
       "      <td>24609.437</td>\n",
       "      <td>28598.595</td>\n",
       "      <td>34787.353</td>\n",
       "      <td>39791.901</td>\n",
       "      <td>NaN</td>\n",
       "    </tr>\n",
       "    <tr>\n",
       "      <th>Canada</th>\n",
       "      <td>NaN</td>\n",
       "      <td>NaN</td>\n",
       "      <td>59.0</td>\n",
       "      <td>59.0</td>\n",
       "      <td>59.0</td>\n",
       "      <td>59.0</td>\n",
       "      <td>62.0</td>\n",
       "      <td>62.0</td>\n",
       "      <td>62.0</td>\n",
       "      <td>164.0</td>\n",
       "      <td>...</td>\n",
       "      <td>11310.0</td>\n",
       "      <td>18092.0</td>\n",
       "      <td>22538.0</td>\n",
       "      <td>26964.0</td>\n",
       "      <td>30930.0</td>\n",
       "      <td>31511.000</td>\n",
       "      <td>33142.000</td>\n",
       "      <td>32748.000</td>\n",
       "      <td>35638.000</td>\n",
       "      <td>NaN</td>\n",
       "    </tr>\n",
       "    <tr>\n",
       "      <th>Sweden</th>\n",
       "      <td>6.0</td>\n",
       "      <td>13.0</td>\n",
       "      <td>31.0</td>\n",
       "      <td>48.0</td>\n",
       "      <td>72.0</td>\n",
       "      <td>99.0</td>\n",
       "      <td>144.0</td>\n",
       "      <td>203.0</td>\n",
       "      <td>317.0</td>\n",
       "      <td>358.0</td>\n",
       "      <td>...</td>\n",
       "      <td>7164.0</td>\n",
       "      <td>9842.0</td>\n",
       "      <td>11235.0</td>\n",
       "      <td>16322.0</td>\n",
       "      <td>15479.0</td>\n",
       "      <td>17609.000</td>\n",
       "      <td>16623.000</td>\n",
       "      <td>19847.000</td>\n",
       "      <td>27526.000</td>\n",
       "      <td>NaN</td>\n",
       "    </tr>\n",
       "  </tbody>\n",
       "</table>\n",
       "<p>10 rows × 32 columns</p>\n",
       "</div>"
      ],
      "text/plain": [
       "Year            1990.0  1991.0  1992.0  1993.0  1994.0  1995.0  1996.0  \\\n",
       "Country                                                                  \n",
       "China              NaN     NaN     NaN     NaN     NaN     NaN     NaN   \n",
       "United States   3066.0  3051.0  2917.0  3053.0  3483.0  3196.0  3410.0   \n",
       "Germany            NaN   215.0   291.0   674.0  1428.0  1712.0  2078.0   \n",
       "United Kingdom     9.0    11.0    40.0   218.0   342.0   391.0   488.0   \n",
       "India             32.0    39.0    52.0    57.0   182.0   498.0   926.0   \n",
       "Brazil             NaN     NaN     NaN     NaN     NaN     NaN     NaN   \n",
       "Spain             14.0    15.0   103.0   116.0   175.0   270.0   364.0   \n",
       "France             NaN     NaN     NaN     2.0     5.0     5.0     7.0   \n",
       "Canada             NaN     NaN    59.0    59.0    59.0    59.0    62.0   \n",
       "Sweden             6.0    13.0    31.0    48.0    72.0    99.0   144.0   \n",
       "\n",
       "Year            1997.0  1998.0  1999.0  ...    2012.0    2013.0    2014.0  \\\n",
       "Country                                 ...                                 \n",
       "China              NaN     NaN     NaN  ...   95978.0  141197.0  159979.0   \n",
       "United States   3254.0  3018.0  4802.0  ...  141922.0  169713.0  183892.0   \n",
       "Germany         3034.0  4593.0  5528.0  ...   51680.0   52737.0   58497.0   \n",
       "United Kingdom   667.0   877.0   850.0  ...   19847.0   28397.0   31959.0   \n",
       "India           1037.0  1127.0  1509.0  ...   28365.0   33583.0   27057.0   \n",
       "Brazil             NaN     NaN     NaN  ...    5050.0    6579.0   12211.0   \n",
       "Spain            742.0  1352.0  2744.0  ...   49472.0   55646.0   52013.0   \n",
       "France            11.0    19.0    37.0  ...   15178.0   16127.0   17324.0   \n",
       "Canada            62.0    62.0   164.0  ...   11310.0   18092.0   22538.0   \n",
       "Sweden           203.0   317.0   358.0  ...    7164.0    9842.0   11235.0   \n",
       "\n",
       "Year              2015.0    2016.0      2017.0      2018.0      2019.0  \\\n",
       "Country                                                                  \n",
       "China           185766.0  237070.0  297230.000  365971.000  406030.000   \n",
       "United States   192992.0  229471.0  257249.072  275834.468  298200.120   \n",
       "Germany          80624.0   79924.0  105693.000  109951.000  125894.000   \n",
       "United Kingdom   40275.0   37159.0   49641.122   56907.615   63795.166   \n",
       "India            30045.0   35530.0   38486.000   64294.000   69949.000   \n",
       "Brazil           21626.0   33488.0   42373.000   48475.000   55986.000   \n",
       "Spain            49325.0   48905.0   49127.000   50896.000   55647.000   \n",
       "France           21420.0   21381.0   24609.437   28598.595   34787.353   \n",
       "Canada           26964.0   30930.0   31511.000   33142.000   32748.000   \n",
       "Sweden           16322.0   15479.0   17609.000   16623.000   19847.000   \n",
       "\n",
       "Year                2020.0  2021.0  \n",
       "Country                             \n",
       "China           466470.000     NaN  \n",
       "United States   341818.283     NaN  \n",
       "Germany         132102.000     NaN  \n",
       "United Kingdom   75369.123     NaN  \n",
       "India            67418.000     NaN  \n",
       "Brazil           57050.000     NaN  \n",
       "Spain            56444.000     NaN  \n",
       "France           39791.901     NaN  \n",
       "Canada           35638.000     NaN  \n",
       "Sweden           27526.000     NaN  \n",
       "\n",
       "[10 rows x 32 columns]"
      ]
     },
     "execution_count": 135,
     "metadata": {},
     "output_type": "execute_result"
    }
   ],
   "source": [
    "wind_pivoted = wind_pivoted.sort_values(2020,ascending=False)\n",
    "wind_pivoted.head(10)"
   ]
  },
  {
   "cell_type": "code",
   "execution_count": 136,
   "metadata": {},
   "outputs": [
    {
     "data": {
      "text/plain": [
       "0       2020.0\n",
       "1       2019.0\n",
       "2       2018.0\n",
       "3       2017.0\n",
       "4       2016.0\n",
       "         ...  \n",
       "2233    2012.0\n",
       "2234    2011.0\n",
       "2235    2010.0\n",
       "2236    2009.0\n",
       "2237    2008.0\n",
       "Name: Year, Length: 2238, dtype: float64"
      ]
     },
     "execution_count": 136,
     "metadata": {},
     "output_type": "execute_result"
    }
   ],
   "source": [
    "wind_pivoted.loc['China',1999:2011]\n",
    "wind_df['Year']"
   ]
  },
  {
   "cell_type": "markdown",
   "metadata": {},
   "source": [
    "Notice that countries with the top total wind electricity production in 2020 weren't necessarily reporting their wind production data to the UN in the 90s - China had the top wind electricity production in 2020 and a high wind electricity production in every year they reported wind production data, but they didn't start reporting until 2009. % Change from 1990 to 2018 likely isn't a good metric for many countries since the data is incomplete."
   ]
  },
  {
   "cell_type": "code",
   "execution_count": 137,
   "metadata": {},
   "outputs": [
    {
     "data": {
      "text/plain": [
       "<seaborn.axisgrid.FacetGrid at 0x1fdd9de09c8>"
      ]
     },
     "execution_count": 137,
     "metadata": {},
     "output_type": "execute_result"
    },
    {
     "data": {
      "image/png": "[encoded data removed]",
      "text/plain": [
       "<Figure size 648x216 with 3 Axes>"
      ]
     },
     "metadata": {
      "needs_background": "light"
     },
     "output_type": "display_data"
    }
   ],
   "source": [
    "facetload = sns.FacetGrid(data=wind_df[(wind_df['Country'] == 'China') | (wind_df['Country'] == 'United States') | (wind_df['Country'] == 'Germany')], col = 'Country')\n",
    "facetload.map(sns.scatterplot, 'Year','Total_Wind_GWh')"
   ]
  },
  {
   "cell_type": "code",
   "execution_count": 138,
   "metadata": {},
   "outputs": [
    {
     "data": {
      "text/plain": [
       "<matplotlib.legend.Legend at 0x1fddb1e8848>"
      ]
     },
     "execution_count": 138,
     "metadata": {},
     "output_type": "execute_result"
    },
    {
     "data": {
      "image/png": "[encoded data removed]",
      "text/plain": [
       "<Figure size 432x288 with 1 Axes>"
      ]
     },
     "metadata": {
      "needs_background": "light"
     },
     "output_type": "display_data"
    }
   ],
   "source": [
    "plt.plot(wind_pivoted.loc['China'])\n",
    "plt.plot(wind_pivoted.loc['United States'])\n",
    "plt.plot(wind_pivoted.loc['Germany'])\n",
    "plt.plot(wind_pivoted.loc['United Kingdom'])\n",
    "plt.plot(wind_pivoted.loc['India'])\n",
    "plt.legend(['China','United States','Germany','United Kingdom','India'])"
   ]
  },
  {
   "cell_type": "code",
   "execution_count": 139,
   "metadata": {},
   "outputs": [
    {
     "name": "stdout",
     "output_type": "stream",
     "text": [
      "                Country  Year  Life_Expectancy      Continent  GDP_Per_Capita\n",
      "0                 Aruba  1990           73.076  North America    32589.018572\n",
      "1                Angola  1990           41.893         Africa     5758.950488\n",
      "2               Albania  1990           73.144         Europe     4827.034551\n",
      "3  United Arab Emirates  1990           71.900           Asia   111454.055665\n",
      "4             Argentina  1990           71.784  South America    14144.763670\n"
     ]
    }
   ],
   "source": [
    "#Import UN GDP Data and re-organize like guided excercise\n",
    "gdp_df = pd.read_csv('../data/UNdata_Export_20230915_035336592.csv')\n",
    "gdp_df = gdp_df.drop(columns='Value Footnotes')\n",
    "gdp_df = gdp_df.rename(columns={'Country or Area':'Country', 'Value':'GDP_Per_Capita'})\n",
    "\n",
    "#Import UN Continents data and merge like guided exercise\n",
    "continents = pd.read_csv('../data/continents.csv')\n",
    "gdp_df=continents.merge(gdp_df,how='inner')\n",
    "\n",
    "#Import UN Life Expectancy Data and re-organize like guided exercise\n",
    "life_expectancy = pd.read_csv('../data/API_SP.DYN.LE00.IN_DS2_en_csv_v2_5839536.csv',skiprows=[0,2])\n",
    "life_expectancy=(life_expectancy\n",
    "                 .drop(columns=[\"Country Code\",\"Indicator Name\", \"Indicator Code\"])\n",
    "                 .melt(id_vars=\"Country Name\",var_name='Year', value_name='Life_Expectancy')\n",
    "                 .rename(columns = {\"Country Name\":\"Country\"})\n",
    "                )\n",
    "\n",
    "#Merge Life Expectancy and GDP dataframes like in guided exercise\n",
    "life_expectancy=life_expectancy[life_expectancy['Year'] != 'Unnamed: 67']\n",
    "life_expectancy['Year']=life_expectancy['Year'].astype(np.int64)\n",
    "gdp_le = life_expectancy.merge(gdp_df,how='inner',on=[\"Country\",\"Year\"])\n",
    "print(gdp_le.head())"
   ]
  },
  {
   "cell_type": "code",
   "execution_count": 140,
   "metadata": {},
   "outputs": [
    {
     "name": "stdout",
     "output_type": "stream",
     "text": [
      "          Country  Year  Life_Expectancy Continent  GDP_Per_Capita  \\\n",
      "0         Belgium  1990        76.051951    Europe    35506.926515   \n",
      "1         Denmark  1990        74.805366    Europe    39027.978737   \n",
      "2           Spain  1990        76.837561    Europe    27543.919244   \n",
      "3  United Kingdom  1990        75.880488    Europe    31217.218062   \n",
      "4          Greece  1990        76.939024    Europe    24262.947667   \n",
      "\n",
      "   Total_Wind_GWh  \n",
      "0             7.0  \n",
      "1           610.0  \n",
      "2            14.0  \n",
      "3             9.0  \n",
      "4             2.0  \n"
     ]
    }
   ],
   "source": [
    "full_wind_df = gdp_le.merge(wind_df,how='inner',on=[\"Country\",\"Year\"])\n",
    "print(full_wind_df.head())"
   ]
  },
  {
   "cell_type": "code",
   "execution_count": 141,
   "metadata": {},
   "outputs": [
    {
     "data": {
      "text/html": [
       "<div>\n",
       "<style scoped>\n",
       "    .dataframe tbody tr th:only-of-type {\n",
       "        vertical-align: middle;\n",
       "    }\n",
       "\n",
       "    .dataframe tbody tr th {\n",
       "        vertical-align: top;\n",
       "    }\n",
       "\n",
       "    .dataframe thead th {\n",
       "        text-align: right;\n",
       "    }\n",
       "</style>\n",
       "<table border=\"1\" class=\"dataframe\">\n",
       "  <thead>\n",
       "    <tr style=\"text-align: right;\">\n",
       "      <th></th>\n",
       "      <th>Country</th>\n",
       "      <th>Year</th>\n",
       "      <th>Life_Expectancy</th>\n",
       "      <th>Continent</th>\n",
       "      <th>GDP_Per_Capita</th>\n",
       "      <th>Total_Wind_GWh</th>\n",
       "    </tr>\n",
       "  </thead>\n",
       "  <tbody>\n",
       "    <tr>\n",
       "      <th>1641</th>\n",
       "      <td>Armenia</td>\n",
       "      <td>2020</td>\n",
       "      <td>72.17300</td>\n",
       "      <td>Europe</td>\n",
       "      <td>12619.892154</td>\n",
       "      <td>1.869</td>\n",
       "    </tr>\n",
       "    <tr>\n",
       "      <th>1671</th>\n",
       "      <td>Fiji</td>\n",
       "      <td>2020</td>\n",
       "      <td>67.92400</td>\n",
       "      <td>Oceania</td>\n",
       "      <td>11526.962287</td>\n",
       "      <td>1.136</td>\n",
       "    </tr>\n",
       "    <tr>\n",
       "      <th>1652</th>\n",
       "      <td>Bhutan</td>\n",
       "      <td>2020</td>\n",
       "      <td>71.60900</td>\n",
       "      <td>Asia</td>\n",
       "      <td>10551.451850</td>\n",
       "      <td>1.110</td>\n",
       "    </tr>\n",
       "    <tr>\n",
       "      <th>1648</th>\n",
       "      <td>Bahrain</td>\n",
       "      <td>2020</td>\n",
       "      <td>79.17400</td>\n",
       "      <td>Asia</td>\n",
       "      <td>41545.841499</td>\n",
       "      <td>1.000</td>\n",
       "    </tr>\n",
       "    <tr>\n",
       "      <th>1662</th>\n",
       "      <td>Dominica</td>\n",
       "      <td>2020</td>\n",
       "      <td>73.64900</td>\n",
       "      <td>North America</td>\n",
       "      <td>10256.330820</td>\n",
       "      <td>0.600</td>\n",
       "    </tr>\n",
       "    <tr>\n",
       "      <th>1697</th>\n",
       "      <td>Madagascar</td>\n",
       "      <td>2020</td>\n",
       "      <td>65.18200</td>\n",
       "      <td>Africa</td>\n",
       "      <td>1463.787723</td>\n",
       "      <td>0.465</td>\n",
       "    </tr>\n",
       "    <tr>\n",
       "      <th>1677</th>\n",
       "      <td>Guyana</td>\n",
       "      <td>2020</td>\n",
       "      <td>68.48600</td>\n",
       "      <td>South America</td>\n",
       "      <td>18679.955429</td>\n",
       "      <td>0.350</td>\n",
       "    </tr>\n",
       "    <tr>\n",
       "      <th>1739</th>\n",
       "      <td>Samoa</td>\n",
       "      <td>2020</td>\n",
       "      <td>72.76800</td>\n",
       "      <td>Oceania</td>\n",
       "      <td>6413.330111</td>\n",
       "      <td>0.218</td>\n",
       "    </tr>\n",
       "    <tr>\n",
       "      <th>1732</th>\n",
       "      <td>Trinidad and Tobago</td>\n",
       "      <td>2020</td>\n",
       "      <td>74.40600</td>\n",
       "      <td>North America</td>\n",
       "      <td>24768.681553</td>\n",
       "      <td>0.059</td>\n",
       "    </tr>\n",
       "    <tr>\n",
       "      <th>1701</th>\n",
       "      <td>Malta</td>\n",
       "      <td>2020</td>\n",
       "      <td>82.34878</td>\n",
       "      <td>Europe</td>\n",
       "      <td>40696.738374</td>\n",
       "      <td>0.058</td>\n",
       "    </tr>\n",
       "  </tbody>\n",
       "</table>\n",
       "</div>"
      ],
      "text/plain": [
       "                  Country  Year  Life_Expectancy      Continent  \\\n",
       "1641              Armenia  2020         72.17300         Europe   \n",
       "1671                 Fiji  2020         67.92400        Oceania   \n",
       "1652               Bhutan  2020         71.60900           Asia   \n",
       "1648              Bahrain  2020         79.17400           Asia   \n",
       "1662             Dominica  2020         73.64900  North America   \n",
       "1697           Madagascar  2020         65.18200         Africa   \n",
       "1677               Guyana  2020         68.48600  South America   \n",
       "1739                Samoa  2020         72.76800        Oceania   \n",
       "1732  Trinidad and Tobago  2020         74.40600  North America   \n",
       "1701                Malta  2020         82.34878         Europe   \n",
       "\n",
       "      GDP_Per_Capita  Total_Wind_GWh  \n",
       "1641    12619.892154           1.869  \n",
       "1671    11526.962287           1.136  \n",
       "1652    10551.451850           1.110  \n",
       "1648    41545.841499           1.000  \n",
       "1662    10256.330820           0.600  \n",
       "1697     1463.787723           0.465  \n",
       "1677    18679.955429           0.350  \n",
       "1739     6413.330111           0.218  \n",
       "1732    24768.681553           0.059  \n",
       "1701    40696.738374           0.058  "
      ]
     },
     "execution_count": 141,
     "metadata": {},
     "output_type": "execute_result"
    }
   ],
   "source": [
    "full_wind_df_2020 = full_wind_df[full_wind_df['Year']==2020].sort_values('Total_Wind_GWh',ascending=False)\n",
    "full_wind_df_2020.tail(10)"
   ]
  },
  {
   "cell_type": "code",
   "execution_count": 142,
   "metadata": {},
   "outputs": [
    {
     "data": {
      "text/plain": [
       "<matplotlib.axes._subplots.AxesSubplot at 0x1fddb030848>"
      ]
     },
     "execution_count": 142,
     "metadata": {},
     "output_type": "execute_result"
    },
    {
     "data": {
      "image/png": "[encoded data removed]",
      "text/plain": [
       "<Figure size 432x288 with 1 Axes>"
      ]
     },
     "metadata": {
      "needs_background": "light"
     },
     "output_type": "display_data"
    }
   ],
   "source": [
    "sns.boxplot(data=full_wind_df_2020,x='Total_Wind_GWh',y='Continent')"
   ]
  },
  {
   "cell_type": "markdown",
   "metadata": {},
   "source": [
    "The United States and China are clear outliers. I need to extract them for any of my graphs to have any chance at being useful."
   ]
  },
  {
   "cell_type": "code",
   "execution_count": 143,
   "metadata": {},
   "outputs": [
    {
     "data": {
      "text/plain": [
       "<matplotlib.axes._subplots.AxesSubplot at 0x1fddb35d588>"
      ]
     },
     "execution_count": 143,
     "metadata": {},
     "output_type": "execute_result"
    },
    {
     "data": {
      "image/png": "[encoded data removed]",
      "text/plain": [
       "<Figure size 432x288 with 1 Axes>"
      ]
     },
     "metadata": {
      "needs_background": "light"
     },
     "output_type": "display_data"
    }
   ],
   "source": [
    "full_wind_df_no_outliers_2020 = full_wind_df_2020[(full_wind_df_2020['Country']!= 'China') & (full_wind_df_2020['Country']!='United States')]\n",
    "sns.boxplot(data=full_wind_df_no_outliers_2020,x='Total_Wind_GWh',y='Continent')"
   ]
  },
  {
   "cell_type": "code",
   "execution_count": null,
   "metadata": {},
   "outputs": [],
   "source": []
  },
  {
   "cell_type": "markdown",
   "metadata": {},
   "source": [
    "This is still a very rough boxplot showing that, even without the United States and China, only a very small handful of countries have significant wind electricity production. Europe, overall, is leading wind electricity production in 2020, but it is really only less than 10 countries throughout the world that are very clearly dedicated to wind electricity production"
   ]
  },
  {
   "cell_type": "code",
   "execution_count": 144,
   "metadata": {},
   "outputs": [
    {
     "data": {
      "image/png": "[encoded data removed]",
      "text/plain": [
       "<Figure size 432x288 with 1 Axes>"
      ]
     },
     "metadata": {
      "needs_background": "light"
     },
     "output_type": "display_data"
    }
   ],
   "source": [
    "plt.hist(full_wind_df_no_outliers_2020['Total_Wind_GWh'])\n",
    "plt.xlabel('Total Wind Production in 2020 (Gwh)')\n",
    "plt.show()"
   ]
  },
  {
   "cell_type": "code",
   "execution_count": 145,
   "metadata": {},
   "outputs": [
    {
     "data": {
      "image/png": "[encoded data removed]",
      "text/plain": [
       "<Figure size 432x288 with 1 Axes>"
      ]
     },
     "metadata": {
      "needs_background": "light"
     },
     "output_type": "display_data"
    }
   ],
   "source": [
    "#Let's try a log transformation to see if it normalizes the wind electricity production data\n",
    "full_wind_df_2020['log_wind']= np.log(full_wind_df_2020['Total_Wind_GWh'])\n",
    "plt.hist(full_wind_df_2020['log_wind'])\n",
    "plt.xlabel('Total Wind Production in 2020 log(GWh)')\n",
    "plt.show()"
   ]
  },
  {
   "cell_type": "markdown",
   "metadata": {},
   "source": [
    "I didn't even need to take The United States and China out! This histogram appears to have a much more normal distriubtion with the log transformation of wind electricity production data. The cell below tests normality with scipy, and shows that this distribution can be assumed to be normal."
   ]
  },
  {
   "cell_type": "code",
   "execution_count": 146,
   "metadata": {},
   "outputs": [
    {
     "name": "stdout",
     "output_type": "stream",
     "text": [
      "The p value was 0.125. The null hypothesis of the normality test was not rejected. The log_wind distribution can be assumed to be normal.\n"
     ]
    }
   ],
   "source": [
    "islogwindnormal = st.normaltest(full_wind_df_2020['log_wind'])\n",
    "log_wind_normal_pvalue=islogwindnormal[1]\n",
    "\n",
    "if log_wind_normal_pvalue>=0.05:\n",
    "    print('The p value was {:.3f}. The null hypothesis of the normality test was not rejected. The log_wind distribution can be assumed to be normal.'.format(log_wind_normal_pvalue))\n",
    "else:\n",
    "    print('The p value was {:.3f}. The null hypothesis of the normality test was rejected. Log_wind cannot be assumed to be normal.'.format(log_wind_normal_pvalue))"
   ]
  },
  {
   "cell_type": "code",
   "execution_count": 147,
   "metadata": {},
   "outputs": [
    {
     "data": {
      "image/png": "[encoded data removed]",
      "text/plain": [
       "<Figure size 432x288 with 1 Axes>"
      ]
     },
     "metadata": {
      "needs_background": "light"
     },
     "output_type": "display_data"
    }
   ],
   "source": [
    "sns.boxplot(data=full_wind_df_2020,x='log_wind',y='Continent').set(xlabel='Log(Total Wind Production 2020 (GWh))')\n",
    "plt.show()"
   ]
  },
  {
   "cell_type": "markdown",
   "metadata": {},
   "source": [
    "The log transformation really cleans up the boxplot comparing the wind production by continent as well. It appears that, by continent, wind prodcution by country is pretty comparable. I wouldn't expect an ANOVA comparison to show that there is a significant difference between continents."
   ]
  },
  {
   "cell_type": "code",
   "execution_count": 150,
   "metadata": {},
   "outputs": [
    {
     "name": "stdout",
     "output_type": "stream",
     "text": [
      "F_onewayResult(statistic=2.56358839204567, pvalue=0.031868061760624185)\n"
     ]
    }
   ],
   "source": [
    "continents= [full_wind_df_2020[full_wind_df_2020['Continent'] == continent]['log_wind'] for continent in full_wind_df_2020['Continent'].unique()]\n",
    "continent_anova=st.f_oneway(*continents)\n",
    "print(continent_anova)"
   ]
  },
  {
   "cell_type": "markdown",
   "metadata": {},
   "source": [
    "It looks like I was wrong - the p value of the ANOVA for log_wind between continents was below 0.05, meaning that the mean value of some of these continents can be considered to be significantly different than some other contients. A natural next step is a tukey test."
   ]
  },
  {
   "cell_type": "code",
   "execution_count": 152,
   "metadata": {},
   "outputs": [],
   "source": [
    "#It would be interesting to try a tukey test, but it looks like I need to update scipy to a more recent version to get access to tukey testing. I don't have internet right now - maybe I'll update this later.\n",
    "#st.tukey_hsd(*continents)"
   ]
  },
  {
   "cell_type": "code",
   "execution_count": 161,
   "metadata": {},
   "outputs": [
    {
     "data": {
      "image/png": "[encoded data removed]",
      "text/plain": [
       "<Figure size 432x288 with 1 Axes>"
      ]
     },
     "metadata": {
      "needs_background": "light"
     },
     "output_type": "display_data"
    },
    {
     "name": "stdout",
     "output_type": "stream",
     "text": [
      "r = 0.14565560071966602\n",
      "R^2 = 0.02121555402100677\n"
     ]
    }
   ],
   "source": [
    "plt.scatter(x=full_wind_df_2020['GDP_Per_Capita'], y=full_wind_df_2020['Total_Wind_GWh'])\n",
    "plt.show()\n",
    "r = full_wind_df_2020[['GDP_Per_Capita','Total_Wind_GWh']].corr()['GDP_Per_Capita']['Total_Wind_GWh']\n",
    "print('r = ' + str(r))\n",
    "print('R^2 = ' + str(r**2))"
   ]
  },
  {
   "cell_type": "code",
   "execution_count": 162,
   "metadata": {},
   "outputs": [
    {
     "data": {
      "image/png": "[encoded data removed]",
      "text/plain": [
       "<Figure size 432x288 with 1 Axes>"
      ]
     },
     "metadata": {
      "needs_background": "light"
     },
     "output_type": "display_data"
    },
    {
     "name": "stdout",
     "output_type": "stream",
     "text": [
      "r = 0.34854307633759546\n",
      "R^2 = 0.1214822760628749\n"
     ]
    }
   ],
   "source": [
    "plt.scatter(x=full_wind_df_2020['GDP_Per_Capita'], y=full_wind_df_2020['log_wind'])\n",
    "plt.show()\n",
    "r = full_wind_df_2020[['GDP_Per_Capita','log_wind']].corr()['GDP_Per_Capita']['log_wind']\n",
    "print('r = ' + str(r))\n",
    "print('R^2 = ' + str(r**2))"
   ]
  },
  {
   "cell_type": "code",
   "execution_count": 163,
   "metadata": {},
   "outputs": [
    {
     "data": {
      "image/png": "[encoded data removed]",
      "text/plain": [
       "<Figure size 432x288 with 1 Axes>"
      ]
     },
     "metadata": {
      "needs_background": "light"
     },
     "output_type": "display_data"
    },
    {
     "name": "stdout",
     "output_type": "stream",
     "text": [
      "r = 0.3904349081325317\n",
      "R^2 = 0.15243941748845846\n"
     ]
    }
   ],
   "source": [
    "full_wind_df_2020['log_gdp']= np.log(full_wind_df_2020['GDP_Per_Capita'])\n",
    "plt.scatter(x=full_wind_df_2020['log_gdp'], y=full_wind_df_2020['log_wind'])\n",
    "plt.show()\n",
    "r = full_wind_df_2020[['log_gdp','log_wind']].corr()['log_gdp']['log_wind']\n",
    "print('r = ' + str(r))\n",
    "print('R^2 = ' + str(r**2))"
   ]
  },
  {
   "cell_type": "code",
   "execution_count": 165,
   "metadata": {},
   "outputs": [
    {
     "data": {
      "image/png": "[encoded data removed]",
      "text/plain": [
       "<Figure size 432x288 with 1 Axes>"
      ]
     },
     "metadata": {
      "needs_background": "light"
     },
     "output_type": "display_data"
    },
    {
     "name": "stdout",
     "output_type": "stream",
     "text": [
      "r = 0.15070855103047523\n",
      "R^2 = 0.022713067353705357\n"
     ]
    }
   ],
   "source": [
    "plt.scatter(x=full_wind_df_2020['log_gdp'], y=full_wind_df_2020['Total_Wind_GWh'])\n",
    "plt.show()\n",
    "r = full_wind_df_2020[['log_gdp','Total_Wind_GWh']].corr()['log_gdp']['Total_Wind_GWh']\n",
    "print('r = ' + str(r))\n",
    "print('R^2 = ' + str(r**2))"
   ]
  },
  {
   "cell_type": "markdown",
   "metadata": {},
   "source": [
    "There does not appear to be any correlation between GDP per capita and the amount of total electricity from wind production. This is likely due to country size! Macao, Luxembourg, and Singapore - the countries with the highest GDP per capita from the guided portion of this exercise - are all really small countries that don't have much land for wind turbines. I hadn't thought about this when I first chose to explore this dataset. An interesting next step might be to import unmodified GDP data (not per capita) or land mass data to see if there's any correlation between country overall GDP or country land area and wind electricity production."
   ]
  }
 ],
 "metadata": {
  "kernelspec": {
   "display_name": "Python 3",
   "language": "python",
   "name": "python3"
  },
  "language_info": {
   "codemirror_mode": {
    "name": "ipython",
    "version": 3
   },
   "file_extension": ".py",
   "mimetype": "text/x-python",
   "name": "python",
   "nbconvert_exporter": "python",
   "pygments_lexer": "ipython3",
   "version": "3.7.6"
  }
 },
 "nbformat": 4,
 "nbformat_minor": 4
}
