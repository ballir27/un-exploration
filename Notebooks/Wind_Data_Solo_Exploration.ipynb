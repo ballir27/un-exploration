{
 "cells": [
  {
   "cell_type": "code",
   "execution_count": 38,
   "metadata": {},
   "outputs": [],
   "source": [
    "import pandas as pd\n",
    "import numpy as np\n",
    "import matplotlib.pyplot as plt\n",
    "import seaborn as sns"
   ]
  },
  {
   "cell_type": "code",
   "execution_count": 39,
   "metadata": {},
   "outputs": [
    {
     "name": "stdout",
     "output_type": "stream",
     "text": [
      "(2240, 6)\n",
      "Index(['Country or Area', 'Commodity - Transaction', 'Year', 'Unit',\n",
      "       'Quantity', 'Quantity Footnotes'],\n",
      "      dtype='object')\n",
      "(2238, 5)\n",
      "  Country or Area              Commodity - Transaction    Year  \\\n",
      "0         Algeria  Electricity - total wind production  2020.0   \n",
      "1         Algeria  Electricity - total wind production  2019.0   \n",
      "2         Algeria  Electricity - total wind production  2018.0   \n",
      "3         Algeria  Electricity - total wind production  2017.0   \n",
      "4         Algeria  Electricity - total wind production  2016.0   \n",
      "5         Algeria  Electricity - total wind production  2015.0   \n",
      "6         Algeria  Electricity - total wind production  2014.0   \n",
      "7       Argentina  Electricity - total wind production  2021.0   \n",
      "8       Argentina  Electricity - total wind production  2020.0   \n",
      "9       Argentina  Electricity - total wind production  2019.0   \n",
      "\n",
      "                      Unit   Quantity  \n",
      "0  Kilowatt-hours, million      7.701  \n",
      "1  Kilowatt-hours, million     11.690  \n",
      "2  Kilowatt-hours, million     10.520  \n",
      "3  Kilowatt-hours, million     19.400  \n",
      "4  Kilowatt-hours, million     19.400  \n",
      "5  Kilowatt-hours, million     19.240  \n",
      "6  Kilowatt-hours, million      1.000  \n",
      "7  Kilowatt-hours, million  12938.000  \n",
      "8  Kilowatt-hours, million   9412.333  \n",
      "9  Kilowatt-hours, million   4996.000  \n",
      "     Country or Area              Commodity - Transaction    Year  \\\n",
      "2228        Viet Nam  Electricity - total wind production  2017.0   \n",
      "2229        Viet Nam  Electricity - total wind production  2016.0   \n",
      "2230        Viet Nam  Electricity - total wind production  2015.0   \n",
      "2231        Viet Nam  Electricity - total wind production  2014.0   \n",
      "2232        Viet Nam  Electricity - total wind production  2013.0   \n",
      "2233        Viet Nam  Electricity - total wind production  2012.0   \n",
      "2234        Viet Nam  Electricity - total wind production  2011.0   \n",
      "2235        Viet Nam  Electricity - total wind production  2010.0   \n",
      "2236        Viet Nam  Electricity - total wind production  2009.0   \n",
      "2237        Viet Nam  Electricity - total wind production  2008.0   \n",
      "\n",
      "                         Unit  Quantity  \n",
      "2228  Kilowatt-hours, million     270.0  \n",
      "2229  Kilowatt-hours, million     221.0  \n",
      "2230  Kilowatt-hours, million     261.0  \n",
      "2231  Kilowatt-hours, million     300.0  \n",
      "2232  Kilowatt-hours, million      92.0  \n",
      "2233  Kilowatt-hours, million      92.0  \n",
      "2234  Kilowatt-hours, million      87.0  \n",
      "2235  Kilowatt-hours, million      50.0  \n",
      "2236  Kilowatt-hours, million      10.0  \n",
      "2237  Kilowatt-hours, million       1.0  \n"
     ]
    }
   ],
   "source": [
    "wind_df = pd.read_csv('../data/UNdata_Export_Wind_data.csv')\n",
    "print(wind_df.shape)\n",
    "print(wind_df.columns)\n",
    "wind_df = wind_df.drop(columns='Quantity Footnotes')\n",
    "wind_df = wind_df.dropna()\n",
    "print(wind_df.shape)\n",
    "print(wind_df.head(10))\n",
    "print(wind_df.tail(10))"
   ]
  },
  {
   "cell_type": "code",
   "execution_count": 40,
   "metadata": {},
   "outputs": [
    {
     "name": "stdout",
     "output_type": "stream",
     "text": [
      "Country or Area            2238\n",
      "Commodity - Transaction    2238\n",
      "Year                       2238\n",
      "Unit                       2238\n",
      "Quantity                   2238\n",
      "dtype: int64\n",
      "\n",
      "\n",
      "Country or Area            2238\n",
      "Commodity - Transaction    2238\n",
      "Year                       2238\n",
      "Unit                       2238\n",
      "Quantity                   2238\n",
      "dtype: int64\n",
      "\n",
      "\n",
      "  Country or Area    Year  Total_Wind_million_kWh\n",
      "0         Algeria  2020.0                   7.701\n",
      "1         Algeria  2019.0                  11.690\n",
      "2         Algeria  2018.0                  10.520\n",
      "3         Algeria  2017.0                  19.400\n",
      "4         Algeria  2016.0                  19.400\n",
      "5         Algeria  2015.0                  19.240\n",
      "6         Algeria  2014.0                   1.000\n",
      "7       Argentina  2021.0               12938.000\n",
      "8       Argentina  2020.0                9412.333\n",
      "9       Argentina  2019.0                4996.000\n",
      "     Country or Area    Year  Total_Wind_million_kWh\n",
      "2228        Viet Nam  2017.0                   270.0\n",
      "2229        Viet Nam  2016.0                   221.0\n",
      "2230        Viet Nam  2015.0                   261.0\n",
      "2231        Viet Nam  2014.0                   300.0\n",
      "2232        Viet Nam  2013.0                    92.0\n",
      "2233        Viet Nam  2012.0                    92.0\n",
      "2234        Viet Nam  2011.0                    87.0\n",
      "2235        Viet Nam  2010.0                    50.0\n",
      "2236        Viet Nam  2009.0                    10.0\n",
      "2237        Viet Nam  2008.0                     1.0\n"
     ]
    }
   ],
   "source": [
    "print(wind_df[wind_df['Unit']=='Kilowatt-hours, million'].count())\n",
    "print(\"\\n\")\n",
    "print(wind_df[wind_df['Commodity - Transaction']=='Electricity - total wind production'].count())\n",
    "print(\"\\n\")\n",
    "wind_df = (wind_df\n",
    "    .drop(columns = ['Commodity - Transaction', 'Unit'])\n",
    "    .rename(columns = {'Quantity':'Total_Wind_million_kWh'})\n",
    "    )\n",
    "print(wind_df.head(10))\n",
    "print(wind_df.tail(10))"
   ]
  },
  {
   "cell_type": "code",
   "execution_count": null,
   "metadata": {},
   "outputs": [],
   "source": []
  }
 ],
 "metadata": {
  "kernelspec": {
   "display_name": "Python 3",
   "language": "python",
   "name": "python3"
  },
  "language_info": {
   "codemirror_mode": {
    "name": "ipython",
    "version": 3
   },
   "file_extension": ".py",
   "mimetype": "text/x-python",
   "name": "python",
   "nbconvert_exporter": "python",
   "pygments_lexer": "ipython3",
   "version": "3.7.6"
  }
 },
 "nbformat": 4,
 "nbformat_minor": 4
}
